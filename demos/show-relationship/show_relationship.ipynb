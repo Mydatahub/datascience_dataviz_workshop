{
 "cells": [
  {
   "cell_type": "markdown",
   "metadata": {},
   "source": [
    "# Show relationship between two quantitative variables in a data set"
   ]
  },
  {
   "cell_type": "markdown",
   "metadata": {
    "heading_collapsed": true
   },
   "source": [
    "## Setup"
   ]
  },
  {
   "cell_type": "code",
   "execution_count": null,
   "metadata": {
    "ExecuteTime": {
     "end_time": "2018-08-28T18:49:06.913004Z",
     "start_time": "2018-08-28T18:49:06.092329Z"
    },
    "hidden": true
   },
   "outputs": [],
   "source": [
    "import pandas as pd\n",
    "from matplotlib import pylab as plt\n",
    "import os\n",
    "import numpy as np\n",
    "import seaborn as sns\n",
    "import importlib\n",
    "import show_relationship_utils as utils\n",
    "utils = importlib.reload(utils)\n",
    "%matplotlib inline"
   ]
  },
  {
   "cell_type": "code",
   "execution_count": null,
   "metadata": {
    "ExecuteTime": {
     "end_time": "2018-08-28T18:49:06.918242Z",
     "start_time": "2018-08-28T18:49:06.915339Z"
    },
    "hidden": true
   },
   "outputs": [],
   "source": [
    "import matplotlib\n",
    "matplotlib.rcParams['figure.figsize'] = [8, 6]\n",
    "matplotlib.rcParams['figure.dpi'] = 144"
   ]
  },
  {
   "cell_type": "code",
   "execution_count": null,
   "metadata": {
    "ExecuteTime": {
     "end_time": "2018-08-28T18:49:06.938189Z",
     "start_time": "2018-08-28T18:49:06.920278Z"
    },
    "hidden": true
   },
   "outputs": [],
   "source": [
    "df_likes_small = utils.generate_data(seed=223344, size=1e3)\n",
    "df_likes_small.tail()"
   ]
  },
  {
   "cell_type": "markdown",
   "metadata": {
    "heading_collapsed": true
   },
   "source": [
    "## What you would normally do"
   ]
  },
  {
   "cell_type": "code",
   "execution_count": null,
   "metadata": {
    "ExecuteTime": {
     "end_time": "2018-08-28T18:49:07.599927Z",
     "start_time": "2018-08-28T18:49:06.941004Z"
    },
    "hidden": true
   },
   "outputs": [],
   "source": [
    "def plot_likes_1(df):\n",
    "    fig, ax = plt.subplots()\n",
    "    ax.plot(df.likes_given, df.likes_received, '.')\n",
    "    ax.set_xlabel('likes given')\n",
    "    ax.set_xlabel('likes received')\n",
    "    ax.set_xscale('log')\n",
    "    ax.set_yscale('log')\n",
    "plot_likes_1(df_likes_small)"
   ]
  },
  {
   "cell_type": "code",
   "execution_count": null,
   "metadata": {
    "ExecuteTime": {
     "end_time": "2018-08-28T18:49:07.994389Z",
     "start_time": "2018-08-28T18:49:07.602419Z"
    },
    "hidden": true
   },
   "outputs": [],
   "source": [
    "def plot_likes_2(df):\n",
    "    df = df.copy()\n",
    "    df['log10p_likes_given'] = np.log10(df.likes_given + 1)\n",
    "    df['log10p_likes_received'] = np.log10(df.likes_received + 1)\n",
    "    fig, ax = plt.subplots()\n",
    "    sns.regplot(df.log10p_likes_given, df.log10p_likes_received,\n",
    "                ax=ax, scatter_kws=dict(alpha=0.05, color='gray'))\n",
    "    ax.text(\n",
    "        x=df.log10p_likes_given.max(), \n",
    "        y=df.log10p_likes_received.max(), \n",
    "        s=utils.summarize_linear_regression(\n",
    "            df.log10p_likes_given, df.log10p_likes_received),\n",
    "        ha='right'\n",
    "    )\n",
    "    \n",
    "plot_likes_2(df_likes_small)"
   ]
  },
  {
   "cell_type": "code",
   "execution_count": null,
   "metadata": {
    "ExecuteTime": {
     "end_time": "2018-08-28T18:49:08.961287Z",
     "start_time": "2018-08-28T18:49:07.996008Z"
    },
    "hidden": true
   },
   "outputs": [],
   "source": [
    "df_likes_large = utils.generate_data(seed=223344, size=1e4)\n",
    "plot_likes_2(df_likes_large)"
   ]
  },
  {
   "cell_type": "markdown",
   "metadata": {},
   "source": [
    "## What you should do"
   ]
  },
  {
   "cell_type": "markdown",
   "metadata": {
    "heading_collapsed": true
   },
   "source": [
    "### A. Audience\n",
    "What is your Audience?"
   ]
  },
  {
   "cell_type": "markdown",
   "metadata": {
    "hidden": true
   },
   "source": [
    "Let's assume we are talking to analysts and support engineers about spammers"
   ]
  },
  {
   "cell_type": "markdown",
   "metadata": {
    "heading_collapsed": true
   },
   "source": [
    "### B. Build the graph"
   ]
  },
  {
   "cell_type": "code",
   "execution_count": null,
   "metadata": {
    "ExecuteTime": {
     "end_time": "2018-08-28T18:49:09.512221Z",
     "start_time": "2018-08-28T18:49:08.963096Z"
    },
    "hidden": true
   },
   "outputs": [],
   "source": [
    "def plot_likes_3(df):\n",
    "    fig, ax = plt.subplots()\n",
    "    ax.plot(df.likes_given, df.likes_received, '.', alpha=0.1)\n",
    "    ax.set_xscale('log')\n",
    "    ax.set_yscale('log')\n",
    "    ax.set_xlabel('likes_given')\n",
    "    ax.set_ylabel('likes_received')\n",
    "\n",
    "plot_likes_3(df_likes_large)"
   ]
  },
  {
   "cell_type": "markdown",
   "metadata": {
    "heading_collapsed": true
   },
   "source": [
    "### C. Conclusion\n",
    "What does the graph mean? \"What\" vs. \"So what\""
   ]
  },
  {
   "cell_type": "code",
   "execution_count": null,
   "metadata": {
    "ExecuteTime": {
     "end_time": "2018-08-28T18:49:09.948974Z",
     "start_time": "2018-08-28T18:49:09.514312Z"
    },
    "hidden": true
   },
   "outputs": [],
   "source": [
    "\n",
    "def plot_likes_4(df):\n",
    "    fig, ax = plt.subplots()\n",
    "    ax.plot(df.likes_given, df.likes_received, '.', alpha=0.1)\n",
    "    ax.set_xscale('log')\n",
    "    ax.set_yscale('log')\n",
    "    ax.set_title('Spammers contaminate our data')\n",
    "    \n",
    "\n",
    "\n",
    "plot_likes_4(df_likes_large)"
   ]
  },
  {
   "cell_type": "code",
   "execution_count": null,
   "metadata": {
    "ExecuteTime": {
     "end_time": "2018-08-28T18:49:12.142563Z",
     "start_time": "2018-08-28T18:49:09.950418Z"
    },
    "hidden": true
   },
   "outputs": [],
   "source": [
    "# Same as above but with anomaly marked\n",
    "def plot_likes_5(df):\n",
    "    fig, ax = plt.subplots()\n",
    "    ax.plot(df.likes_given, df.likes_received, '.', alpha=0.1)\n",
    "    outlier_selection = utils.select_outliers(\n",
    "        np.log10(df[['likes_given', 'likes_received']] + 1)\n",
    "    )\n",
    "    ax.plot(df.likes_given[outlier_selection],\n",
    "            df.likes_received[outlier_selection], 'o', color='C3')\n",
    "    ax.set_xscale('log')\n",
    "    ax.set_yscale('log')\n",
    "    ax.set_title('Spammers contaminate our data')\n",
    "    \n",
    "\n",
    "\n",
    "plot_likes_5(df_likes_large)"
   ]
  },
  {
   "cell_type": "markdown",
   "metadata": {
    "heading_collapsed": true
   },
   "source": [
    "### D. Delete (data-ink ratio & readability)\n",
    "\n",
    "Remove unneeded elements. Increase the readability"
   ]
  },
  {
   "cell_type": "code",
   "execution_count": null,
   "metadata": {
    "ExecuteTime": {
     "end_time": "2018-08-28T18:49:14.637478Z",
     "start_time": "2018-08-28T18:49:12.144777Z"
    },
    "hidden": true
   },
   "outputs": [],
   "source": [
    "def plot_likes_6(df):\n",
    "    fig, ax = plt.subplots()\n",
    "    ax.plot(df.likes_given, df.likes_received, '.', alpha=0.1)\n",
    "    outlier_selection = utils.select_outliers(\n",
    "        np.log10(df[['likes_given', 'likes_received']] + 1)\n",
    "    )\n",
    "    ax.plot(df.likes_given[outlier_selection],\n",
    "            df.likes_received[outlier_selection], 'o', color='C3')\n",
    "    ax.set_xscale('log')\n",
    "    ax.set_yscale('log')\n",
    "    ticks = [1, 10, 100, 1000]\n",
    "    labels = [f'{t:,d}' for t in ticks]\n",
    "    ax.set_xticks(ticks)\n",
    "    ax.set_xticklabels(labels)\n",
    "    ax.set_yticks(ticks[:-1])\n",
    "    ax.set_yticklabels(labels[:-1])\n",
    "    ax.set_title('Spammers contaminate our data', x=0, ha='left')\n",
    "    ax.set_xlabel('Likes Given')\n",
    "    ax.set_ylabel('Likes Received', rotation=0, ha='right', y=0.75)\n",
    "    ax.minorticks_off()\n",
    "    sns.despine(ax=ax)\n",
    "\n",
    "\n",
    "plot_likes_6(df_likes_large)"
   ]
  },
  {
   "cell_type": "code",
   "execution_count": null,
   "metadata": {
    "ExecuteTime": {
     "end_time": "2018-08-28T18:49:16.962050Z",
     "start_time": "2018-08-28T18:49:14.639023Z"
    },
    "hidden": true
   },
   "outputs": [],
   "source": [
    "# A more reusable function\n",
    "def plot_likes_7(df, ax=None):\n",
    "    if ax is None:\n",
    "        fig, ax = plt.subplots()\n",
    "    ax.plot(df.likes_given, df.likes_received, '.', alpha=0.1)\n",
    "    outlier_selection = utils.select_outliers(\n",
    "        np.log10(df[['likes_given', 'likes_received']] + 1)\n",
    "    )\n",
    "    ax.plot(df.likes_given[outlier_selection],\n",
    "            df.likes_received[outlier_selection], 'o', color='C3')\n",
    "    ax.set_xscale('log')\n",
    "    ax.set_yscale('log')\n",
    "    ticks = [1, 10, 100, 1000]\n",
    "    labels = [f'{t:,d}' for t in ticks]\n",
    "    ax.set_xticks(ticks)\n",
    "    ax.set_xticklabels(labels)\n",
    "    ax.set_yticks(ticks[:-1])\n",
    "    ax.set_yticklabels(labels[:-1])\n",
    "    ax.set_title('Spammers contaminate our data', x=0, ha='left')\n",
    "    ax.set_xlabel('Likes Given')\n",
    "    ax.set_ylabel('Likes Received', rotation=0, ha='right', y=0.75)\n",
    "    ax.minorticks_off()\n",
    "    sns.despine(ax=ax)\n",
    "    return ax\n",
    "\n",
    "\n",
    "plot_likes_7(df_likes_large)"
   ]
  },
  {
   "cell_type": "markdown",
   "metadata": {
    "heading_collapsed": true
   },
   "source": [
    "### New audience, new graph\n",
    "\n",
    "Convince the \"general public\" to be more socially active"
   ]
  },
  {
   "cell_type": "code",
   "execution_count": null,
   "metadata": {
    "ExecuteTime": {
     "end_time": "2018-08-28T18:49:17.287574Z",
     "start_time": "2018-08-28T18:49:16.964403Z"
    },
    "hidden": true
   },
   "outputs": [],
   "source": [
    "def plot_likes_8(df, ax=None):\n",
    "    df['likes_given_binned'] = np.power(\n",
    "        10,\n",
    "        np.round(\n",
    "            np.log10(df.likes_given + 1), 0\n",
    "        ).astype(int)\n",
    "    )\n",
    "    if ax is None:\n",
    "        fig, ax = plt.subplots(figsize=(16, 9))\n",
    "    gr = df.groupby('likes_given_binned')\n",
    "    xs = []\n",
    "    bottoms = []\n",
    "    tops = []\n",
    "    medians = []\n",
    "    for given, tbl in sorted(gr):\n",
    "        x = np.log10(given)\n",
    "        bottom, median, top = np.percentile(\n",
    "            tbl['likes_received'], [5, 50, 95])\n",
    "        xs.append(x)\n",
    "        tops.append(top)\n",
    "        medians.append(median)\n",
    "        bottoms.append(bottom)\n",
    "    medians = np.array(medians)\n",
    "    bottoms = np.array(bottoms)\n",
    "    tops = np.array(tops)\n",
    "    ax.bar(x=xs, height=tops-bottoms, bottom=bottoms, color='lightgray')\n",
    "\n",
    "    # A dirty hack to draw the medians\n",
    "    delta = 0.75\n",
    "    ax.bar(x=xs, height=delta, bottom=medians-delta, color='C0')\n",
    "    ax.set_xticks(xs)\n",
    "    ax.set_xticklabels([f'{int(10**x):,d}' for x in xs])\n",
    "    ax.set_xlabel('Likes you give', fontsize='x-large')\n",
    "    ax.set_yticks([0, 30, 60])\n",
    "    ax.set_ylabel('Likes you receive', rotation=0, y=0.85, ha='right', fontsize='x-large')\n",
    "    ax.set_title('The more likes you give, the more likes you get',\n",
    "                 ma='left', ha='left', x=0, fontsize='xx-large')\n",
    "    sns.despine(ax=ax)\n",
    "    return ax\n",
    "\n",
    "\n",
    "plot_likes_8(df_likes_large)"
   ]
  },
  {
   "cell_type": "code",
   "execution_count": null,
   "metadata": {
    "hidden": true
   },
   "outputs": [],
   "source": []
  }
 ],
 "metadata": {
  "kernelspec": {
   "display_name": "Python 3",
   "language": "python",
   "name": "python3"
  },
  "language_info": {
   "codemirror_mode": {
    "name": "ipython",
    "version": 3
   },
   "file_extension": ".py",
   "mimetype": "text/x-python",
   "name": "python",
   "nbconvert_exporter": "python",
   "pygments_lexer": "ipython3",
   "version": "3.6.5"
  }
 },
 "nbformat": 4,
 "nbformat_minor": 2
}
