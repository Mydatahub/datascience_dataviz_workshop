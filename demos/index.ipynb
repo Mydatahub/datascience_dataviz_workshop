{
 "cells": [
  {
   "cell_type": "markdown",
   "metadata": {},
   "source": [
    "![euroscipy logo](https://www.euroscipy.org/theme/images/euroscipy_logo.png)\n",
    "\n",
    "# Data visualization -- from default and suboptimal to efficient and awesome\n",
    "\n",
    "Boris Gorelik\n",
    "\n",
    "[https://gorelik.net](https://gorelik.net)\n",
    "\n",
    "\n",
    "<img data-attachment-id=\"426\" data-permalink=\"https://gorelik.net/about/wordpress-4/\" data-orig-file=\"https://randomstratum.files.wordpress.com/2015/12/wordpress-4.png?w=36&#038;h=36\" data-orig-size=\"129,129\" data-comments-opened=\"1\" data-image-meta=\"{&quot;aperture&quot;:&quot;0&quot;,&quot;credit&quot;:&quot;&quot;,&quot;camera&quot;:&quot;&quot;,&quot;caption&quot;:&quot;&quot;,&quot;created_timestamp&quot;:&quot;0&quot;,&quot;copyright&quot;:&quot;&quot;,&quot;focal_length&quot;:&quot;0&quot;,&quot;iso&quot;:&quot;0&quot;,&quot;shutter_speed&quot;:&quot;0&quot;,&quot;title&quot;:&quot;&quot;,&quot;orientation&quot;:&quot;0&quot;}\" data-image-title=\"wordpress (4)\" data-image-description=\"\" data-medium-file=\"https://randomstratum.files.wordpress.com/2015/12/wordpress-4.png?w=36&#038;h=36?w=129\" data-large-file=\"https://randomstratum.files.wordpress.com/2015/12/wordpress-4.png?w=36&#038;h=36?w=129\" class=\"alignnone  wp-image-426\" src=\"https://randomstratum.files.wordpress.com/2015/12/wordpress-4.png?w=36&#038;h=36\" alt=\"wordpress (4).png\" width=\"36\" height=\"36\" srcset=\"https://randomstratum.files.wordpress.com/2015/12/wordpress-4.png?w=36&amp;h=36 36w, https://randomstratum.files.wordpress.com/2015/12/wordpress-4.png?w=72&amp;h=72 72w\" sizes=\"(max-width: 36px) 100vw, 36px\" /><img data-attachment-id=\"423\" data-permalink=\"https://gorelik.net/about/twitter-4-2/\" data-orig-file=\"https://randomstratum.files.wordpress.com/2015/12/twitter-41.png?w=36&#038;h=36\" data-orig-size=\"129,129\" data-comments-opened=\"1\" data-image-meta=\"{&quot;aperture&quot;:&quot;0&quot;,&quot;credit&quot;:&quot;&quot;,&quot;camera&quot;:&quot;&quot;,&quot;caption&quot;:&quot;&quot;,&quot;created_timestamp&quot;:&quot;0&quot;,&quot;copyright&quot;:&quot;&quot;,&quot;focal_length&quot;:&quot;0&quot;,&quot;iso&quot;:&quot;0&quot;,&quot;shutter_speed&quot;:&quot;0&quot;,&quot;title&quot;:&quot;&quot;,&quot;orientation&quot;:&quot;0&quot;}\" data-image-title=\"twitter (4)\" data-image-description=\"\" data-medium-file=\"https://randomstratum.files.wordpress.com/2015/12/twitter-41.png?w=36&#038;h=36?w=129\" data-large-file=\"https://randomstratum.files.wordpress.com/2015/12/twitter-41.png?w=36&#038;h=36?w=129\" class=\"alignnone  wp-image-423\" src=\"https://randomstratum.files.wordpress.com/2015/12/twitter-41.png?w=36&#038;h=36\" alt=\"twitter (4).png\" width=\"36\" height=\"36\" srcset=\"https://randomstratum.files.wordpress.com/2015/12/twitter-41.png?w=36&amp;h=36 36w, https://randomstratum.files.wordpress.com/2015/12/twitter-41.png?w=72&amp;h=72 72w\" sizes=\"(max-width: 36px) 100vw, 36px\" /><img data-attachment-id=\"425\" data-permalink=\"https://gorelik.net/about/github-10-xxl-2/\" data-orig-file=\"https://randomstratum.files.wordpress.com/2015/12/github-10-xxl1.png?w=36&#038;h=36\" data-orig-size=\"256,256\" data-comments-opened=\"1\" data-image-meta=\"{&quot;aperture&quot;:&quot;0&quot;,&quot;credit&quot;:&quot;&quot;,&quot;camera&quot;:&quot;&quot;,&quot;caption&quot;:&quot;&quot;,&quot;created_timestamp&quot;:&quot;0&quot;,&quot;copyright&quot;:&quot;&quot;,&quot;focal_length&quot;:&quot;0&quot;,&quot;iso&quot;:&quot;0&quot;,&quot;shutter_speed&quot;:&quot;0&quot;,&quot;title&quot;:&quot;&quot;,&quot;orientation&quot;:&quot;0&quot;}\" data-image-title=\"github-10-xxl\" data-image-description=\"\" data-medium-file=\"https://randomstratum.files.wordpress.com/2015/12/github-10-xxl1.png?w=36&#038;h=36?w=256\" data-large-file=\"https://randomstratum.files.wordpress.com/2015/12/github-10-xxl1.png?w=36&#038;h=36?w=256\" class=\"alignnone  wp-image-425\" src=\"https://randomstratum.files.wordpress.com/2015/12/github-10-xxl1.png?w=36&#038;h=36\" alt=\"github-10-xxl.png\" width=\"36\" height=\"36\" srcset=\"https://randomstratum.files.wordpress.com/2015/12/github-10-xxl1.png?w=36&amp;h=36 36w, https://randomstratum.files.wordpress.com/2015/12/github-10-xxl1.png?w=72&amp;h=72 72w\" sizes=\"(max-width: 36px) 100vw, 36px\" /><a href=\"https://www.youtube.com/channel/UCgT25rZ6Ixs1R6tnx0LSDfA\"><img data-attachment-id=\"422\" data-permalink=\"https://gorelik.net/about/youtube-4/\" data-orig-file=\"https://randomstratum.files.wordpress.com/2015/12/youtube-4.png\" data-orig-size=\"129,129\" data-comments-opened=\"1\" data-image-meta=\"{&quot;aperture&quot;:&quot;0&quot;,&quot;credit&quot;:&quot;&quot;,&quot;camera&quot;:&quot;&quot;,&quot;caption&quot;:&quot;&quot;,&quot;created_timestamp&quot;:&quot;0&quot;,&quot;copyright&quot;:&quot;&quot;,&quot;focal_length&quot;:&quot;0&quot;,&quot;iso&quot;:&quot;0&quot;,&quot;shutter_speed&quot;:&quot;0&quot;,&quot;title&quot;:&quot;&quot;,&quot;orientation&quot;:&quot;0&quot;}\" data-image-title=\"youtube (4)\" data-image-description=\"\" data-medium-file=\"https://randomstratum.files.wordpress.com/2015/12/youtube-4.png?w=129\" data-large-file=\"https://randomstratum.files.wordpress.com/2015/12/youtube-4.png?w=129\" class=\"alignnone size-full wp-image-422\" src=\"https://randomstratum.files.wordpress.com/2015/12/youtube-4.png?w=96\" alt=\"youtube (4).png\" width=\"36\" height=\"36\" srcset=\"https://randomstratum.files.wordpress.com/2015/12/youtube-4.png?w=36 36w, https://randomstratum.files.wordpress.com/2015/12/youtube-4.png?w=72 72w\" sizes=\"(max-width: 36px) 100vw, 36px\" /></a><a href=\"https://www.linkedin.com/in/boris-gorelik-0737a331/\" target=\"_blank\" rel=\"noopener\"><img data-attachment-id=\"420\" data-permalink=\"https://gorelik.net/about/linkdin-4/\" data-orig-file=\"https://randomstratum.files.wordpress.com/2015/12/linkdin-4.png?w=36&#038;h=36\" data-orig-size=\"129,129\" data-comments-opened=\"1\" data-image-meta=\"{&quot;aperture&quot;:&quot;0&quot;,&quot;credit&quot;:&quot;&quot;,&quot;camera&quot;:&quot;&quot;,&quot;caption&quot;:&quot;&quot;,&quot;created_timestamp&quot;:&quot;0&quot;,&quot;copyright&quot;:&quot;&quot;,&quot;focal_length&quot;:&quot;0&quot;,&quot;iso&quot;:&quot;0&quot;,&quot;shutter_speed&quot;:&quot;0&quot;,&quot;title&quot;:&quot;&quot;,&quot;orientation&quot;:&quot;0&quot;}\" data-image-title=\"linkdin (4)\" data-image-description=\"\" data-medium-file=\"https://randomstratum.files.wordpress.com/2015/12/linkdin-4.png?w=36&#038;h=36?w=129\" data-large-file=\"https://randomstratum.files.wordpress.com/2015/12/linkdin-4.png?w=36&#038;h=36?w=129\" class=\"alignnone  wp-image-420\" src=\"https://randomstratum.files.wordpress.com/2015/12/linkdin-4.png?w=36&#038;h=36\" alt=\"linkdin (4).png\" width=\"36\" height=\"36\" srcset=\"https://randomstratum.files.wordpress.com/2015/12/linkdin-4.png?w=36&amp;h=36 36w, https://randomstratum.files.wordpress.com/2015/12/linkdin-4.png?w=72&amp;h=72 72w\" sizes=\"(max-width: 36px) 100vw, 36px\" /></a></p>"
   ]
  },
  {
   "cell_type": "markdown",
   "metadata": {},
   "source": [
    "## Workshop plan\n",
    "\n",
    "* [Relationship between quantitative variables](show-relationship/show_relationship.ipynb)\n",
    "* [Bar chart as an effective alternative to a pie chart](item_distribution/bar%20chart%20as%20an%20effective%20alternative%20to%20a%20pie%20chart.ipynb)\n",
    "* [Pie chart as an effective alternative to a bar chart](item_distribution/pie%20charts%20as%20an%20alternative%20to%20bar%20charts.ipynb)\n",
    "* [Exercise](exercise/exercise.ipynb)\n",
    "\n",
    "* Homework (Notebooks that are not part of this workshop but nevertheless contain useful information)\n",
    " - [Data, models and what's inbetween](demos/data-models-and-whats-in-between/data-models-and-whats-in-between.ipynb) \n",
    " - [Drastically different time series](drastically-different-time-series/drastically-different-time-series.ipynb)\n"
   ]
  },
  {
   "cell_type": "code",
   "execution_count": null,
   "metadata": {},
   "outputs": [],
   "source": []
  }
 ],
 "metadata": {
  "kernelspec": {
   "display_name": "Python 3",
   "language": "python",
   "name": "python3"
  },
  "language_info": {
   "codemirror_mode": {
    "name": "ipython",
    "version": 3
   },
   "file_extension": ".py",
   "mimetype": "text/x-python",
   "name": "python",
   "nbconvert_exporter": "python",
   "pygments_lexer": "ipython3",
   "version": "3.6.5"
  }
 },
 "nbformat": 4,
 "nbformat_minor": 2
}
