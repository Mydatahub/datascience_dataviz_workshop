{
 "cells": [
  {
   "cell_type": "markdown",
   "metadata": {},
   "source": [
    "# Plotting drastically different time series"
   ]
  },
  {
   "cell_type": "markdown",
   "metadata": {},
   "source": [
    "Plotting multiple time series on a single graph is always a challenge. The challenge becomes especially difficult when the time series are very different one from another.\n",
    "In this exercise, we will plot the per-capita Gross Domestic Product (GDPPC) of OECD countries. OECD (Organisation for Economic Co-operation and Development) is an intergovernmental economic organization with 35 member countries with very different economy types and sizes."
   ]
  },
  {
   "cell_type": "code",
   "execution_count": null,
   "metadata": {},
   "outputs": [],
   "source": [
    "import pandas as pd\n",
    "import os\n",
    "from matplotlib import pylab as plt\n",
    "import seaborn as sns\n",
    "import numpy as np\n",
    "import ipywidgets\n",
    "import matplotlib as mpl\n",
    "from statsmodels.nonparametric.kde import KDEUnivariate\n",
    "%matplotlib inline"
   ]
  },
  {
   "cell_type": "code",
   "execution_count": null,
   "metadata": {},
   "outputs": [],
   "source": [
    "dir_data = './data/'"
   ]
  },
  {
   "cell_type": "code",
   "execution_count": null,
   "metadata": {},
   "outputs": [],
   "source": [
    "df_gdppp = pd.read_excel('./data/GDP_per_capita.xlsx', sheet_name='Data')\n",
    "df_gdppp.head()"
   ]
  },
  {
   "cell_type": "code",
   "execution_count": null,
   "metadata": {},
   "outputs": [],
   "source": [
    "df_groups = pd.read_csv('./data/country_groups.csv')\n",
    "oecd_countries = df_groups.loc[df_groups.GroupCode == 'OED'].CountryCode.values"
   ]
  },
  {
   "cell_type": "code",
   "execution_count": null,
   "metadata": {},
   "outputs": [],
   "source": [
    "df_oecd_wide = df_gdppp.loc[df_gdppp['Country Code'].isin(oecd_countries)]\n",
    "df_oecd_wide.head()"
   ]
  },
  {
   "cell_type": "code",
   "execution_count": null,
   "metadata": {},
   "outputs": [],
   "source": [
    "df_oecd = df_oecd_wide.melt(id_vars=['Country Name', 'Country Code'], var_name='year', value_name='GDPPC')\n",
    "df_oecd.year = df_oecd.year.astype(int)\n",
    "df_oecd = df_oecd.loc[df_oecd.year >= 1990]\n",
    "df_oecd.sample(10)"
   ]
  },
  {
   "cell_type": "code",
   "execution_count": null,
   "metadata": {},
   "outputs": [],
   "source": [
    "fig, ax = plt.subplots(figsize=(10, 4))\n",
    "for (name, code), df in df_oecd.groupby(['Country Name', 'Country Code']):\n",
    "    ax.plot(df.year, df.GDPPC, '-', label=name)\n",
    "ax.legend()\n",
    "ax.set_ylabel('GDP per capita')\n",
    "ax.set_title('Not really!')"
   ]
  },
  {
   "cell_type": "code",
   "execution_count": null,
   "metadata": {},
   "outputs": [],
   "source": [
    "def plot_gdppc():\n",
    "    fig, ax = plt.subplots(figsize=(10, 4))\n",
    "    for (name, code), df in df_oecd.groupby(['Country Name', 'Country Code']):\n",
    "        ax.plot(df.year, df.GDPPC, '-', color='gray', label=name)\n",
    "    ax.set_ylabel('GDP per capita')\n",
    "    return ax\n",
    "plot_gdppc()"
   ]
  },
  {
   "cell_type": "code",
   "execution_count": null,
   "metadata": {},
   "outputs": [],
   "source": [
    "#! Look at what's important\n"
   ]
  },
  {
   "cell_type": "code",
   "execution_count": null,
   "metadata": {},
   "outputs": [],
   "source": [
    "# Normalize the values\n",
    "def normalize_to_2000(df):\n",
    "    ref = df.loc[df.year == 2000].iloc[0]['GDPPC']\n",
    "    df.GDPPC /= ref  \n",
    "    df.GDPPC = (df.GDPPC * 100) - 100\n",
    "    return df\n",
    "df_oecd_normalized = df_oecd.groupby('Country Name').apply(normalize_to_2000)\n",
    "df_oecd_normalized = df_oecd_normalized.loc[df_oecd_normalized.year >= 2000]"
   ]
  },
  {
   "cell_type": "code",
   "execution_count": null,
   "metadata": {},
   "outputs": [],
   "source": [
    "df_oecd_normalized.loc[df_oecd_normalized['Country Code'] == 'ISR']"
   ]
  },
  {
   "cell_type": "code",
   "execution_count": null,
   "metadata": {},
   "outputs": [],
   "source": [
    "#! Plot the normalized data to reduce the clutter\n"
   ]
  },
  {
   "cell_type": "code",
   "execution_count": null,
   "metadata": {},
   "outputs": [],
   "source": [
    "last_GDPPC = df_oecd_normalized.groupby('Country Name').apply(\n",
    "    lambda df: df.loc[df.year == df.year.max()]['GDPPC'].iloc[0]\n",
    ").sort_values()\n",
    "last_GDPPC.head()"
   ]
  },
  {
   "cell_type": "code",
   "execution_count": null,
   "metadata": {},
   "outputs": [],
   "source": [
    "#! Let's make this prettier (*)\n"
   ]
  },
  {
   "cell_type": "code",
   "execution_count": null,
   "metadata": {},
   "outputs": [],
   "source": [
    "#! Let's make this EVEN MORE pretty (*)\n"
   ]
  },
  {
   "cell_type": "code",
   "execution_count": null,
   "metadata": {},
   "outputs": [],
   "source": [
    "#! Add some interactivity\n"
   ]
  },
  {
   "cell_type": "markdown",
   "metadata": {},
   "source": [
    "## Another approach"
   ]
  },
  {
   "cell_type": "markdown",
   "metadata": {},
   "source": [
    "When we think of a time series plot, we usually think of an \"evolution\" line -- a line that plots the time on the X-axis, and the value on the Y-axis. This is not always the best approach. We can use stacked Kernel Density Estimation (KDE), to provide an information-rich and readable graphs. \n",
    "\n",
    "Sometimes, these graphs are called \"[joyplots](https://seaborn.pydata.org/examples/kde_joyplot.html)\""
   ]
  },
  {
   "cell_type": "code",
   "execution_count": null,
   "metadata": {},
   "outputs": [],
   "source": [
    "def plot_filled_kde(data, clr='C0', baseline=0, x_from=None, x_to=None, log_transform=False, label=None, country=None, *args, **kwargs):\n",
    "    data = data.dropna()\n",
    "    ax = kwargs.pop('ax', None)\n",
    "    if ax is None:\n",
    "        ax = plt.gca()\n",
    "    if x_from is None:\n",
    "        x_from = data.min()\n",
    "    if x_to is None:\n",
    "        x_to = data.max()\n",
    "    if log_transform:\n",
    "        data = np.log10(data)\n",
    "        x_from = np.log10(x_from)\n",
    "        x_to = np.log10(x_to)\n",
    "    kde = KDEUnivariate(\n",
    "        data\n",
    "    )\n",
    "    kde.fit(bw=0.05)\n",
    "    x = np.linspace(x_from, x_to, 100) # from 0 to 4. hours\n",
    "    y = kde.evaluate(x)\n",
    "    y += baseline\n",
    "    ax.plot(x, y, '-', lw=0.8, color=clr, *args, **kwargs)\n",
    "    ax.fill_between(x, y1=baseline, y2=y, color=clr, alpha=0.1)\n",
    "    if label is not None:\n",
    "        lbl_x = x[-1]\n",
    "        lbl_y = y[-1]\n",
    "        ax.text(x[-1], y[-1], label, color=clr, va='center')\n",
    "    if country is not None:\n",
    "        country_x = [data[country]]\n",
    "        country_y = kde.evaluate(country_x) + baseline\n",
    "        ax.plot(country_x, country_y, 'o', color=clr)\n",
    "    return ax"
   ]
  },
  {
   "cell_type": "code",
   "execution_count": null,
   "metadata": {},
   "outputs": [],
   "source": [
    "#!"
   ]
  },
  {
   "cell_type": "code",
   "execution_count": null,
   "metadata": {},
   "outputs": [],
   "source": [
    "#!\n"
   ]
  },
  {
   "cell_type": "code",
   "execution_count": null,
   "metadata": {},
   "outputs": [],
   "source": [
    "ipywidgets.interact(follow_a_country, country=df_oecd['Country Name'].unique())"
   ]
  },
  {
   "cell_type": "code",
   "execution_count": null,
   "metadata": {},
   "outputs": [],
   "source": []
  }
 ],
 "metadata": {
  "kernelspec": {
   "display_name": "Python 3",
   "language": "python",
   "name": "python3"
  },
  "language_info": {
   "codemirror_mode": {
    "name": "ipython",
    "version": 3
   },
   "file_extension": ".py",
   "mimetype": "text/x-python",
   "name": "python",
   "nbconvert_exporter": "python",
   "pygments_lexer": "ipython3",
   "version": "3.6.5"
  }
 },
 "nbformat": 4,
 "nbformat_minor": 2
}
