{
 "cells": [
  {
   "cell_type": "markdown",
   "metadata": {},
   "source": [
    "# Prerequisite verification notebook\n",
    "\n",
    "This notebook will make sure that you have all the required software installed, and that you have enough knowledge to proceed with the workshop. Note that we will not provide support for missing libraries or non-working code. It is up to you to make sure that everything works.\n",
    "\n",
    "This notebook contains two parts. The first part \"Software\" will make sure that you have all the software installed and working. See the [README.md](README.md) file for more information about the setup.\n",
    "\n",
    "The second part of this notebook is called \"Knowledge.\" It checks whether you know what you are doing. Go through the examples, and make sure you understand what's going one. I will not be able to explain matplotlib internals during this workshop. You'll find useful links at the beginning of the second part.\n"
   ]
  },
  {
   "cell_type": "markdown",
   "metadata": {},
   "source": [
    "## Software\n",
    "\n",
    "Making sure you have the right setup"
   ]
  },
  {
   "cell_type": "code",
   "execution_count": null,
   "metadata": {
    "ExecuteTime": {
     "end_time": "2020-04-04T10:10:24.244280Z",
     "start_time": "2020-04-04T10:10:23.409354Z"
    }
   },
   "outputs": [],
   "source": [
    "import sys\n",
    "from matplotlib import pylab as plt\n",
    "import pandas as pd\n",
    "import numpy as np\n",
    "import seaborn as sns\n",
    "from IPython.display import Image\n",
    "import urllib\n",
    "from bidi import algorithm as bidialg # Needed to handle Hebrew in plots. Install using `pip install python-bidi`\n",
    "from scipy.stats import gaussian_kde\n",
    "%matplotlib notebook"
   ]
  },
  {
   "cell_type": "markdown",
   "metadata": {},
   "source": [
    "Let's make sure you have the right versions"
   ]
  },
  {
   "cell_type": "code",
   "execution_count": null,
   "metadata": {
    "ExecuteTime": {
     "end_time": "2020-04-04T10:10:24.247524Z",
     "start_time": "2020-04-04T10:10:24.245502Z"
    }
   },
   "outputs": [],
   "source": [
    "assert sys.version_info.major > 2, \"You can't be serious! It's 2020\""
   ]
  },
  {
   "cell_type": "code",
   "execution_count": null,
   "metadata": {
    "ExecuteTime": {
     "end_time": "2020-04-04T10:10:24.250952Z",
     "start_time": "2020-04-04T10:10:24.249076Z"
    }
   },
   "outputs": [],
   "source": [
    "assert sys.version_info.minor >= 6, \"I like f-strings and use them a lot\""
   ]
  },
  {
   "cell_type": "code",
   "execution_count": null,
   "metadata": {
    "ExecuteTime": {
     "end_time": "2020-04-04T10:10:24.254462Z",
     "start_time": "2020-04-04T10:10:24.252541Z"
    }
   },
   "outputs": [],
   "source": [
    "import matplotlib\n",
    "assert matplotlib.__version__ >= '2.1', f\"See this page to learn why you should update your matplotlib https://matplotlib.org/users/dflt_style_changes.html\""
   ]
  },
  {
   "cell_type": "code",
   "execution_count": null,
   "metadata": {
    "ExecuteTime": {
     "end_time": "2020-04-04T10:10:24.483587Z",
     "start_time": "2020-04-04T10:10:24.255912Z"
    }
   },
   "outputs": [],
   "source": [
    "m = np.linspace(0, 100, 100*100).reshape(100, 100)\n",
    "plt.imshow(m)"
   ]
  },
  {
   "cell_type": "markdown",
   "metadata": {
    "ExecuteTime": {
     "end_time": "2018-05-15T09:00:21.062568Z",
     "start_time": "2018-05-15T09:00:20.924476Z"
    }
   },
   "source": [
    "The above cell should have created a nice \"heatmap\" with yellow-green-blue gradient. If you can't see a graph that looks like the one below, something is wrong with your installation.\n",
    "\n",
    "<img src=\"./demos/figures/heatmap.png\" alt=\"Heatmap\" style=\"width: 320px;\"/>"
   ]
  },
  {
   "cell_type": "code",
   "execution_count": null,
   "metadata": {
    "ExecuteTime": {
     "end_time": "2020-04-04T10:10:24.581688Z",
     "start_time": "2020-04-04T10:10:24.485253Z"
    }
   },
   "outputs": [],
   "source": [
    "def kdeplot(data, ax=None, **kwargs):\n",
    "    density = gaussian_kde(data)\n",
    "    xs = np.linspace(np.min(data), \n",
    "                     np.max(data), \n",
    "                     kwargs.pop('numpoints', 200)\n",
    "                    )\n",
    "    covariance_factor = kwargs.pop(\n",
    "        'covariance_factor', 1\n",
    "    )\n",
    "    density.covariance_factor = lambda : covariance_factor\n",
    "    density._compute_covariance()\n",
    "    if ax is None:\n",
    "        fig, ax = plt.subplots()\n",
    "    title = kwargs.pop('title', None)\n",
    "\n",
    "    ax.plot(xs,density(xs), **kwargs)\n",
    "    if title is not None:\n",
    "        ax.set_ylabel(title, \n",
    "                      rotation=0, \n",
    "                      y=0.75, \n",
    "                      ha='right', \n",
    "                      fontsize='x-large')\n",
    "    sns.despine(ax=ax)\n",
    "    return ax\n",
    "kdeplot(np.random.randn(1000))"
   ]
  },
  {
   "cell_type": "markdown",
   "metadata": {},
   "source": [
    "The above cell should create a nice bell curve. "
   ]
  },
  {
   "cell_type": "markdown",
   "metadata": {},
   "source": [
    "## Knowledge\n",
    "Go through the examples below. Do you understand what they do? Can you modify these examples to fit your needs? If you can't, you should do some homework **before** the workshop, or cancel your registration. Unfortunately, I won't be able to teach how to use the libraries. \n"
   ]
  },
  {
   "cell_type": "markdown",
   "metadata": {},
   "source": [
    "### Pandas\n",
    "\n",
    "Pandas is THE libary to work with data tables in Python. \n",
    "Following are useful tutorials that will give you enough background\n",
    "\n",
    "* [10 minutes to Pandas](https://pandas.pydata.org/pandas-docs/stable/10min.html)\n",
    "* [Intro to Pandas: -1 : An absolute beginners guide to Machine Learning and Data science](https://pandas.pydata.org/pandas-docs/stable/10min.html)"
   ]
  },
  {
   "cell_type": "code",
   "execution_count": null,
   "metadata": {
    "ExecuteTime": {
     "end_time": "2020-04-04T10:11:49.721209Z",
     "start_time": "2020-04-04T10:11:49.711743Z"
    }
   },
   "outputs": [],
   "source": [
    "tbl = pd.DataFrame({'alpha': np.linspace(0, 20, 100)})\n",
    "tbl['sine'] = np.sin(tbl.alpha)\n",
    "tbl['cosine'] = np.cos(tbl.alpha)\n",
    "tbl.head()"
   ]
  },
  {
   "cell_type": "markdown",
   "metadata": {},
   "source": [
    "### matplotlib\n",
    "\n",
    "Matplotlib is THE libary to generate static graphs in Python. There are two ways to interact with matplotlib. The first one (\"Matlab-style\") uses a set of high-level functions. The second one is more \"Pythonic\" and more powerful. I will mostly use the latter. For a good introduction to matplotlib see [Introduction to Object-oriented matplolib intefrace](http://jakevdp.github.io/mpl_tutorial/tutorial_pages/tut2.html). "
   ]
  },
  {
   "cell_type": "code",
   "execution_count": null,
   "metadata": {
    "ExecuteTime": {
     "end_time": "2020-04-04T10:12:43.807080Z",
     "start_time": "2020-04-04T10:12:43.643526Z"
    }
   },
   "outputs": [],
   "source": [
    "fig, axes = plt.subplots(2, 1, figsize=(8,6), sharex=True)\n",
    "ax = axes[0]\n",
    "ax.plot(tbl.alpha, tbl.sine, '-')\n",
    "ax.set_ylabel('$sin(\\\\alpha)$', rotation='horizontal', ha='right', ma='left')\n",
    "\n",
    "ax = axes[1]\n",
    "ax.plot(tbl.alpha, tbl.cosine, '--')\n",
    "ax.set_xlabel('$\\\\alpha$')\n",
    "ax.set_ylabel('$sin(\\\\alpha)$', rotation='horizontal', ha='right', ma='left')\n",
    "tks = np.arange(0, 7*np.pi, np.pi)\n",
    "lbls = [f'{i}$\\\\pi$' for i in range(len(tks))]\n",
    "lbls[0] = 0\n",
    "lbls[1] = '$\\\\pi$'\n",
    "ax.set_xticks(tks)\n",
    "ax.set_xticklabels(lbls)\n",
    "[sns.despine(ax=ax) for ax in axes]\n",
    "None"
   ]
  },
  {
   "cell_type": "code",
   "execution_count": null,
   "metadata": {},
   "outputs": [],
   "source": []
  }
 ],
 "metadata": {
  "hide_input": false,
  "kernelspec": {
   "display_name": "Python 3",
   "language": "python",
   "name": "python3"
  },
  "language_info": {
   "codemirror_mode": {
    "name": "ipython",
    "version": 3
   },
   "file_extension": ".py",
   "mimetype": "text/x-python",
   "name": "python",
   "nbconvert_exporter": "python",
   "pygments_lexer": "ipython3",
   "version": "3.6.5"
  },
  "toc": {
   "base_numbering": 1,
   "nav_menu": {},
   "number_sections": true,
   "sideBar": true,
   "skip_h1_title": false,
   "title_cell": "Table of Contents",
   "title_sidebar": "Contents",
   "toc_cell": false,
   "toc_position": {},
   "toc_section_display": true,
   "toc_window_display": false
  }
 },
 "nbformat": 4,
 "nbformat_minor": 2
}
