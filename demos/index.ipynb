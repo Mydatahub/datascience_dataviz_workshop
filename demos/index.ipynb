{
 "cells": [
  {
   "cell_type": "code",
   "execution_count": 1,
   "metadata": {
    "ExecuteTime": {
     "end_time": "2020-04-05T11:54:32.020492Z",
     "start_time": "2020-04-05T11:54:32.011525Z"
    }
   },
   "outputs": [
    {
     "data": {
      "text/html": [
       "<style> /*\n",
       "Placeholder for custom user CSS\n",
       "\n",
       "mainly to be overridden in profile/static/custom/custom.css\n",
       "\n",
       "This will always be an empty file in IPython\n",
       "*/\n",
       "\n",
       "\n",
       ".container { width:99.5% !important; }\n",
       "\n",
       "/* Change code font */\n",
       ".CodeMirror pre {\n",
       "    font-size: 19pt;\n",
       "    /* line-height: 1em; */\n",
       "}\n",
       "\n",
       "\n",
       "div.output pre{\n",
       "    font-size: 19pt;\n",
       "    line-height: 1.7em;\n",
       "}\n",
       "\n",
       "\n",
       "div.output_html td{\n",
       "    font-size: 18pt;\n",
       "    line-height: 1.7em;\n",
       "}\n",
       "\n",
       "\n",
       "div.prompt{\n",
       "    font-size: 8pt;\n",
       "}\n",
       "\n",
       "div.completions select{\n",
       "    font-size: 19pt;\n",
       "    line-height: 1.7em;\n",
       "}\n",
       "\n",
       "div.container pre{\n",
       "    font-size: 19pt;\n",
       "    line-height: 1.7em;\n",
       "}\n",
       "\n",
       "div.tooltiptext pre{\n",
       "    font-size: 18pt;\n",
       "    line-height: 1.7em;\n",
       "}\n",
       "\n",
       "\n",
       "div.text_cell_render {\n",
       "    font-size: 18pt;\n",
       "    line-height: 145%;\n",
       "}\n",
       "\n",
       "div.text_cell_render code{\n",
       "    font-size: 19pt;\n",
       "    line-height: 1.7em;\n",
       "}\n",
       "\n",
       "div.text_cell_render h1,\n",
       "div.text_cell_render h2,\n",
       "div.text_cell_render h3,\n",
       "div.text_cell_render h4,\n",
       "div.text_cell_render h5,\n",
       "div.text_cell_render h6 {\n",
       "    font-weight: 1500;\n",
       "}\n",
       "\n",
       "div.text_cell_render h1 {\n",
       "    font-size: 28pt;\n",
       "}\n",
       "\n",
       "div.text_cell_render h2 {\n",
       "    font-size: 26pt;\n",
       "}\n",
       "\n",
       "div.text_cell_render h3 {\n",
       "    font-size: 24pt;\n",
       "}\n",
       "\n",
       ".rendered_html pre,\n",
       ".rendered_html code {\n",
       "    font-size: 18pt;\n",
       "    line-height: 1.7em;\n",
       "}\n",
       "*/\n",
       "</style>"
      ],
      "text/plain": [
       "<IPython.core.display.HTML object>"
      ]
     },
     "execution_count": 1,
     "metadata": {},
     "output_type": "execute_result"
    }
   ],
   "source": [
    "from IPython.display import *\n",
    "HTML('<style> ' + open('demo.css').read() + '</style>')"
   ]
  },
  {
   "cell_type": "markdown",
   "metadata": {},
   "source": [
    "\n",
    "\n",
    "# Data visualization -- from default and suboptimal to efficient and awesome\n",
    "\n",
    "\n",
    "\n",
    "Boris Gorelik\n",
    "\n",
    "[https://gorelik.net](https://gorelik.net) English\n",
    "\n",
    "# הדמתיית נתונים -- מ־״לא משהו״ ל־״משהו משהו״\n",
    "\n",
    "[https://he.gorelik.net](https://he.gorelik.net) בעברית"
   ]
  },
  {
   "cell_type": "markdown",
   "metadata": {},
   "source": [
    "## Workshop plan\n",
    "\n",
    "* [Drastically different time series](drastically-different-time-series/drastically-different-time-series.ipynb)\n",
    "* [Relationship between quantitative variables](show-relationship/show_relationship.ipynb)\n",
    "* [Bar chart as an effective alternative to a pie chart](item_distribution/bar%20chart%20as%20an%20effective%20alternative%20to%20a%20pie%20chart.ipynb)\n",
    "* [Pie chart as an effective alternative to a bar chart](item_distribution/pie%20charts%20as%20an%20alternative%20to%20bar%20charts.ipynb)\n",
    "* [Exercise](exercise/exercise.ipynb)\n",
    "\n",
    "* Homework (Notebooks that are not part of this workshop but nevertheless contain useful information)\n",
    " - [Data, models and what's inbetween](data-models-and-whats-in-between/data-models-and-whats-in-between.ipynb) \n"
   ]
  },
  {
   "cell_type": "code",
   "execution_count": null,
   "metadata": {},
   "outputs": [],
   "source": []
  }
 ],
 "metadata": {
  "hide_input": true,
  "kernelspec": {
   "display_name": "Python 3",
   "language": "python",
   "name": "python3"
  },
  "language_info": {
   "codemirror_mode": {
    "name": "ipython",
    "version": 3
   },
   "file_extension": ".py",
   "mimetype": "text/x-python",
   "name": "python",
   "nbconvert_exporter": "python",
   "pygments_lexer": "ipython3",
   "version": "3.6.5"
  },
  "toc": {
   "base_numbering": 1,
   "nav_menu": {},
   "number_sections": true,
   "sideBar": true,
   "skip_h1_title": false,
   "title_cell": "Table of Contents",
   "title_sidebar": "Contents",
   "toc_cell": false,
   "toc_position": {},
   "toc_section_display": true,
   "toc_window_display": false
  }
 },
 "nbformat": 4,
 "nbformat_minor": 2
}
