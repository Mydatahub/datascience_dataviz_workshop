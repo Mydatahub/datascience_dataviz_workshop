{
 "cells": [
  {
   "cell_type": "code",
   "execution_count": null,
   "metadata": {
    "ExecuteTime": {
     "end_time": "2018-08-28T18:43:39.730620Z",
     "start_time": "2018-08-28T18:43:38.481964Z"
    },
    "slideshow": {
     "slide_type": "slide"
    }
   },
   "outputs": [],
   "source": [
    "import pandas as pd\n",
    "from matplotlib import pylab as plt\n",
    "import seaborn as sns\n",
    "import sklearn\n",
    "from sklearn.model_selection import train_test_split\n",
    "import sklearn.linear_model as linear_model\n",
    "import sklearn.metrics as metrics\n",
    "import numpy as np\n",
    "from IPython.display import *\n",
    "%matplotlib inline"
   ]
  },
  {
   "cell_type": "markdown",
   "metadata": {
    "ExecuteTime": {
     "end_time": "2018-06-18T10:21:47.988189Z",
     "start_time": "2018-06-18T10:21:47.794124Z"
    },
    "scrolled": true,
    "slideshow": {
     "slide_type": "subslide"
    }
   },
   "source": [
    "## Observed vs. Predicted of the other way around. Does it matter?"
   ]
  },
  {
   "cell_type": "code",
   "execution_count": null,
   "metadata": {
    "ExecuteTime": {
     "end_time": "2018-08-28T18:43:39.737602Z",
     "start_time": "2018-08-28T18:43:39.732387Z"
    },
    "hide_input": false,
    "scrolled": true,
    "slideshow": {
     "slide_type": "slide"
    }
   },
   "outputs": [],
   "source": [
    "IFrame('https://doi.org/10.1016/j.ecolmodel.2008.05.006', width=\"90%\", height='500')"
   ]
  },
  {
   "cell_type": "markdown",
   "metadata": {
    "slideshow": {
     "slide_type": "slide"
    }
   },
   "source": [
    "## What is $R^2$?\n",
    "\n",
    "*  the proportion of the variance in the dependent variable that is predictable from the independent variable"
   ]
  },
  {
   "cell_type": "code",
   "execution_count": null,
   "metadata": {
    "ExecuteTime": {
     "end_time": "2018-08-28T18:43:39.744016Z",
     "start_time": "2018-08-28T18:43:39.739745Z"
    },
    "slideshow": {
     "slide_type": "skip"
    }
   },
   "outputs": [],
   "source": [
    "N = 100\n",
    "np.random.seed(112233)\n",
    "obs = np.random.randn(N) \n",
    "pred1 = obs  + np.random.randn(N) * 0.4\n",
    "pred2 = obs * 2 + np.random.randn(N) * 0.4\n",
    "pred3 = obs + 0.075* obs ** 2 + np.random.randn(N) * 0.1;"
   ]
  },
  {
   "cell_type": "code",
   "execution_count": null,
   "metadata": {
    "ExecuteTime": {
     "end_time": "2018-08-28T18:43:40.724686Z",
     "start_time": "2018-08-28T18:43:39.745913Z"
    },
    "hide_input": false,
    "slideshow": {
     "slide_type": "fragment"
    }
   },
   "outputs": [],
   "source": [
    "fig, axes = plt.subplots(ncols=3, nrows=1, figsize=(15, 5), dpi=240)\n",
    "axes[0].plot(pred1, obs, '.'); axes[0].set_title(f'A: $R^2={np.corrcoef(pred1, obs)[0, 1] ** 2: .2f}$')\n",
    "axes[0].set_ylabel('Observed')\n",
    "axes[1].plot(pred2, obs, '.'); axes[1].set_title(f'B: $R^2={np.corrcoef(pred2, obs)[0, 1] ** 2: .2f}$')\n",
    "axes[1].set_xlabel('Predicted')\n",
    "axes[2].plot(pred3, obs, '.'); axes[2].set_title(f'C: $R^2={np.corrcoef(pred3, obs)[0, 1] ** 2: .2f}$');"
   ]
  },
  {
   "cell_type": "code",
   "execution_count": null,
   "metadata": {
    "ExecuteTime": {
     "end_time": "2018-08-28T18:43:41.330492Z",
     "start_time": "2018-08-28T18:43:40.726499Z"
    }
   },
   "outputs": [],
   "source": [
    "fig, axes = plt.subplots(ncols=3, nrows=1, figsize=(15, 5), dpi=240)\n",
    "axes[0].plot(obs, pred1, '.'); axes[0].set_title(f'A: $R^2={np.corrcoef(pred1, obs)[0, 1] ** 2: .2f}$')\n",
    "axes[0].set_ylabel('Predicted')\n",
    "axes[1].plot(obs, pred2, '.'); axes[1].set_title(f'B: $R^2={np.corrcoef(pred2, obs)[0, 1] ** 2: .2f}$')\n",
    "axes[1].set_xlabel('Observed')\n",
    "axes[2].plot(obs, pred3, '.'); axes[2].set_title(f'C: $R^2={np.corrcoef(pred3, obs)[0, 1] ** 2: .2f}$');"
   ]
  },
  {
   "cell_type": "markdown",
   "metadata": {
    "slideshow": {
     "slide_type": "slide"
    }
   },
   "source": [
    "Hidden assumption:\n",
    "* Predicted vs. observed (PO):  $\\hat{y} = a_1  y + b_1 + \\epsilon$\n",
    "\n",
    "**OR**\n",
    "\n",
    "* Observed vs. predicted (OP): $y = a_2  \\hat{y}  + b_2 + \\epsilon$\n",
    "\n",
    "Ideally: $b_1, b_2 = 0.0$, $a_1, a_2 = 1$"
   ]
  },
  {
   "cell_type": "code",
   "execution_count": null,
   "metadata": {
    "ExecuteTime": {
     "end_time": "2018-08-28T18:43:41.346061Z",
     "start_time": "2018-08-28T18:43:41.332959Z"
    },
    "hide_input": true,
    "slideshow": {
     "slide_type": "slide"
    }
   },
   "outputs": [],
   "source": [
    "Image('../figures/panero_fig3.png')"
   ]
  },
  {
   "cell_type": "code",
   "execution_count": null,
   "metadata": {
    "ExecuteTime": {
     "end_time": "2018-08-28T18:43:41.375546Z",
     "start_time": "2018-08-28T18:43:41.347968Z"
    },
    "hide_input": false,
    "slideshow": {
     "slide_type": "slide"
    }
   },
   "outputs": [],
   "source": [
    "Image('../figures/panero_fig2.png')"
   ]
  },
  {
   "cell_type": "markdown",
   "metadata": {
    "slideshow": {
     "slide_type": "slide"
    }
   },
   "source": [
    "> spurious effect is added to the regression parameters when regressing PO values and comparing them against the 1:1 line. Observed (in the y-axis) vs. predicted (in the x-axis) (OP) regressions should be used instead. "
   ]
  },
  {
   "cell_type": "code",
   "execution_count": null,
   "metadata": {
    "ExecuteTime": {
     "end_time": "2018-08-28T18:43:41.984231Z",
     "start_time": "2018-08-28T18:43:41.377170Z"
    },
    "slideshow": {
     "slide_type": "slide"
    }
   },
   "outputs": [],
   "source": [
    "fig, axes = plt.subplots(ncols=3, nrows=1, figsize=(15, 5), dpi=240)\n",
    "axes[0].plot(pred1, obs, '.'); axes[0].set_title(f'A: $R^2={np.corrcoef(pred1, obs)[0, 1] ** 2: .2f}$')\n",
    "axes[1].plot(pred2, obs, '.'); axes[1].set_title(f'B: $R^2={np.corrcoef(pred2, obs)[0, 1] ** 2: .2f}$')\n",
    "axes[2].plot(pred3, obs, '.'); axes[2].set_title(f'C: $R^2={np.corrcoef(pred3, obs)[0, 1] ** 2: .2f}$')\n",
    "for ax in axes:\n",
    "    ax.set_xlabel('Predicted');ax.set_ylabel('Observed')\n",
    "None"
   ]
  },
  {
   "cell_type": "markdown",
   "metadata": {
    "slideshow": {
     "slide_type": "slide"
    }
   },
   "source": [
    "## A better OP plot"
   ]
  },
  {
   "cell_type": "code",
   "execution_count": null,
   "metadata": {
    "ExecuteTime": {
     "end_time": "2018-08-28T18:43:41.990009Z",
     "start_time": "2018-08-28T18:43:41.986544Z"
    },
    "slideshow": {
     "slide_type": "slide"
    }
   },
   "outputs": [],
   "source": [
    "def plot_observed_vs_predicted(observations, predictions, ax=None):\n",
    "    if ax is None:\n",
    "        fig, ax = plt.subplots()\n",
    "    sns.regplot(predictions, observations, ax=ax, ci=99, color='C0')\n",
    "    ax.set_ylabel('Observed quality')\n",
    "    ax.set_xlabel('Predicted quality')\n",
    "    return ax"
   ]
  },
  {
   "cell_type": "code",
   "execution_count": null,
   "metadata": {
    "ExecuteTime": {
     "end_time": "2018-08-28T18:43:43.089429Z",
     "start_time": "2018-08-28T18:43:41.992266Z"
    },
    "hide_input": false,
    "slideshow": {
     "slide_type": "subslide"
    }
   },
   "outputs": [],
   "source": [
    "fig, axes = plt.subplots(ncols=3, nrows=1, figsize=(15, 5), dpi=240)\n",
    "plot_observed_vs_predicted(obs, pred1, axes[0]); axes[0].set_title(f'A: $R^2={np.corrcoef(pred1, obs)[0, 1] ** 2: .2f}$')\n",
    "plot_observed_vs_predicted(obs, pred2, axes[1]); axes[1].set_title(f'B: $R^2={np.corrcoef(pred2, obs)[0, 1] ** 2: .2f}$')\n",
    "plot_observed_vs_predicted(obs, pred3, axes[2]); axes[2].set_title(f'C: $R^2={np.corrcoef(pred3, obs)[0, 1] ** 2: .2f}$')\n",
    "None"
   ]
  },
  {
   "cell_type": "markdown",
   "metadata": {
    "slideshow": {
     "slide_type": "subslide"
    }
   },
   "source": [
    "**What is the slope of this regression line?**\n",
    "\n",
    "$y = a_2  \\hat{y}  + b_2 + \\epsilon$\n",
    "\n",
    "Is $a_2 = 1$?"
   ]
  },
  {
   "cell_type": "markdown",
   "metadata": {
    "slideshow": {
     "slide_type": "slide"
    }
   },
   "source": [
    " * The X- and Y- axes represent the same variable at the same scale.\n",
    " * A given horizontal distance on a graph should correspond to the same vertical distance in on the graph **and** in the data"
   ]
  },
  {
   "cell_type": "code",
   "execution_count": null,
   "metadata": {
    "ExecuteTime": {
     "end_time": "2018-08-28T18:43:43.097802Z",
     "start_time": "2018-08-28T18:43:43.091401Z"
    },
    "slideshow": {
     "slide_type": "slide"
    }
   },
   "outputs": [],
   "source": [
    "def plot_observed_vs_predicted(observations, predictions, ax=None, ylabel=True):\n",
    "    if ax is None:\n",
    "        fig, ax = plt.subplots()\n",
    "    sns.regplot(predictions, observations, ax=ax, ci=99, color='C0')\n",
    "    mn = min((min(observations), min(predictions)))\n",
    "    mx = max((max(observations), max(predictions)))\n",
    "    \n",
    "    # Equal aspect ratio\n",
    "    ax.set_aspect(1.0)\n",
    "    # Identity line for better visual aid\n",
    "    ax.plot([mn, mx], [mn, mx], '--', color='k', zorder=-1)\n",
    "    # Equal axis limits\n",
    "    ax.set_xlim(mn, mx); ax.set_ylim(mn, mx)\n",
    "    sns.despine(ax=ax)\n",
    "    ax.set_xlabel('Predicted')\n",
    "    if ylabel:\n",
    "        ax.set_ylabel('Observed', rotation=0, y=1, va='top', ha='right')\n",
    "    return ax"
   ]
  },
  {
   "cell_type": "code",
   "execution_count": null,
   "metadata": {
    "ExecuteTime": {
     "end_time": "2018-08-28T18:43:44.320740Z",
     "start_time": "2018-08-28T18:43:43.100532Z"
    },
    "slideshow": {
     "slide_type": "subslide"
    }
   },
   "outputs": [],
   "source": [
    "fig, axes = plt.subplots(ncols=3, nrows=1, figsize=(15, 5), dpi=240)\n",
    "plot_observed_vs_predicted(obs, pred1, axes[0]); axes[0].set_title(f'A: $R^2={np.corrcoef(pred1, obs)[0, 1] ** 2: .3f}$')\n",
    "plot_observed_vs_predicted(obs, pred2, axes[1], ylabel=False); axes[1].set_title(f'B: $R^2={np.corrcoef(pred2, obs)[0, 1] ** 2: .3f}$')\n",
    "plot_observed_vs_predicted(obs, pred3, axes[2], ylabel=False); axes[2].set_title(f'C: $R^2={np.corrcoef(pred3, obs)[0, 1] ** 2: .3f}$')\n",
    "None"
   ]
  },
  {
   "cell_type": "markdown",
   "metadata": {
    "slideshow": {
     "slide_type": "slide"
    }
   },
   "source": [
    "**Recall the residuals**\n",
    "\n",
    "$y = a_2  \\hat{y}  + b_2 + \\epsilon$"
   ]
  },
  {
   "cell_type": "code",
   "execution_count": null,
   "metadata": {
    "ExecuteTime": {
     "end_time": "2018-08-28T18:43:44.328231Z",
     "start_time": "2018-08-28T18:43:44.322971Z"
    },
    "slideshow": {
     "slide_type": "fragment"
    }
   },
   "outputs": [],
   "source": [
    "def plot_residuals(observations, predictions, ax=None, ylabel=True):\n",
    "    if ax is None:\n",
    "        fig, ax = plt.subplots()\n",
    "    residuals =  observations - predictions\n",
    "    ax.plot(predictions, residuals, 'o', color='C0')\n",
    "    sns.despine(ax=ax)\n",
    "    ax.axhline(0, color='k', zorder=-1, ls='--')\n",
    "    ax.set_xlabel('Predicted quality', y=-1)\n",
    "    if ylabel:\n",
    "        ax.set_ylabel('Obs $-$ Pred', rotation=0, y=1, va='top', ha='right')\n",
    "    ax.text(x=ax.get_xlim()[1], y=ax.get_ylim()[1], s='Overestimation', color='gray', size='small', ha='right', va='top')\n",
    "    ax.text(x=ax.get_xlim()[1], y=ax.get_ylim()[0], s='Underestimation', color='gray', size='small', ha='right', va='bottom')\n",
    "    return ax\n"
   ]
  },
  {
   "cell_type": "code",
   "execution_count": null,
   "metadata": {
    "ExecuteTime": {
     "end_time": "2018-08-28T18:43:45.032392Z",
     "start_time": "2018-08-28T18:43:44.330205Z"
    }
   },
   "outputs": [],
   "source": [
    "fig, axes = plt.subplots(ncols=3, nrows=1, figsize=(15, 5), dpi=240)\n",
    "plot_residuals(obs, pred1, axes[0]); axes[0].set_title(f'A: $R^2={np.corrcoef(pred1, obs)[0, 1] ** 2: .3f}$')\n",
    "plot_residuals(obs, pred2, axes[1], ylabel=False); axes[1].set_title(f'B: $R^2={np.corrcoef(pred2, obs)[0, 1] ** 2: .3f}$')\n",
    "plot_residuals(obs, pred3, axes[2], ylabel=False); axes[2].set_title(f'C: $R^2={np.corrcoef(pred3, obs)[0, 1] ** 2: .3f}$')\n",
    "None"
   ]
  },
  {
   "cell_type": "markdown",
   "metadata": {
    "slideshow": {
     "slide_type": "slide"
    }
   },
   "source": [
    "## Combining the components"
   ]
  },
  {
   "cell_type": "code",
   "execution_count": null,
   "metadata": {
    "ExecuteTime": {
     "end_time": "2018-08-28T18:43:45.038768Z",
     "start_time": "2018-08-28T18:43:45.034821Z"
    },
    "slideshow": {
     "slide_type": "slide"
    }
   },
   "outputs": [],
   "source": [
    "def combined_plot(observations, predictions, fig=None):\n",
    "    if fig is None:\n",
    "        fig = plt.figure(figsize=(6, 6+3))\n",
    "    ax_obs_pred = plt.subplot2grid((3, 1), (0, 0), rowspan=2)\n",
    "    ax_residuals = plt.subplot2grid((3, 1), (2, 0), sharex=ax_obs_pred)\n",
    "    plot_observed_vs_predicted(observations, predictions, ax=ax_obs_pred)\n",
    "    plot_residuals(observations, predictions, ax=ax_residuals)\n",
    "    fig.tight_layout()\n",
    "    return fig"
   ]
  },
  {
   "cell_type": "code",
   "execution_count": null,
   "metadata": {
    "ExecuteTime": {
     "end_time": "2018-08-28T18:43:45.360749Z",
     "start_time": "2018-08-28T18:43:45.040788Z"
    },
    "slideshow": {
     "slide_type": "slide"
    }
   },
   "outputs": [],
   "source": [
    "fig = combined_plot(obs, pred1)\n",
    "fig.suptitle('A');"
   ]
  },
  {
   "cell_type": "code",
   "execution_count": null,
   "metadata": {
    "ExecuteTime": {
     "end_time": "2018-08-28T18:43:45.722240Z",
     "start_time": "2018-08-28T18:43:45.362889Z"
    },
    "slideshow": {
     "slide_type": "slide"
    }
   },
   "outputs": [],
   "source": [
    "fig = combined_plot(obs, pred2)\n",
    "fig.suptitle('B');"
   ]
  },
  {
   "cell_type": "code",
   "execution_count": null,
   "metadata": {
    "ExecuteTime": {
     "end_time": "2018-08-28T18:43:46.034659Z",
     "start_time": "2018-08-28T18:43:45.724056Z"
    },
    "slideshow": {
     "slide_type": "slide"
    }
   },
   "outputs": [],
   "source": [
    "fig = combined_plot(obs, pred3)\n",
    "fig.suptitle('C');"
   ]
  },
  {
   "cell_type": "code",
   "execution_count": null,
   "metadata": {
    "ExecuteTime": {
     "end_time": "2018-08-28T18:43:46.161174Z",
     "start_time": "2018-08-28T18:43:46.036545Z"
    }
   },
   "outputs": [],
   "source": [
    "plt.hist(obs - pred3, bins=30)\n",
    "plt.axvline(0, color='red')\n",
    "None"
   ]
  },
  {
   "cell_type": "code",
   "execution_count": null,
   "metadata": {},
   "outputs": [],
   "source": []
  },
  {
   "cell_type": "code",
   "execution_count": null,
   "metadata": {},
   "outputs": [],
   "source": []
  },
  {
   "cell_type": "code",
   "execution_count": null,
   "metadata": {},
   "outputs": [],
   "source": []
  },
  {
   "cell_type": "code",
   "execution_count": null,
   "metadata": {},
   "outputs": [],
   "source": []
  },
  {
   "cell_type": "code",
   "execution_count": null,
   "metadata": {},
   "outputs": [],
   "source": []
  }
 ],
 "metadata": {
  "kernelspec": {
   "display_name": "Python 3",
   "language": "python",
   "name": "python3"
  },
  "language_info": {
   "codemirror_mode": {
    "name": "ipython",
    "version": 3
   },
   "file_extension": ".py",
   "mimetype": "text/x-python",
   "name": "python",
   "nbconvert_exporter": "python",
   "pygments_lexer": "ipython3",
   "version": "3.6.5"
  }
 },
 "nbformat": 4,
 "nbformat_minor": 2
}
