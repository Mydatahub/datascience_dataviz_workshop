{
 "cells": [
  {
   "cell_type": "markdown",
   "metadata": {},
   "source": [
    "# Bar chart as an effective alternative to a pie chart"
   ]
  },
  {
   "cell_type": "markdown",
   "metadata": {},
   "source": [
    "In this exercise, we will visualize the distribution of different categories in a data set. We'll start with a pie chart, understand its problems, and will evolve into a neat summary graph."
   ]
  },
  {
   "cell_type": "markdown",
   "metadata": {
    "heading_collapsed": true
   },
   "source": [
    "## Setup"
   ]
  },
  {
   "cell_type": "code",
   "execution_count": null,
   "metadata": {
    "ExecuteTime": {
     "end_time": "2018-08-28T10:20:39.789217Z",
     "start_time": "2018-08-28T10:20:38.695129Z"
    },
    "hidden": true
   },
   "outputs": [],
   "source": [
    "import pandas as pd\n",
    "import numpy as np\n",
    "import matplotlib.pylab as plt\n",
    "import json\n",
    "import seaborn as sns\n",
    "%matplotlib inline"
   ]
  },
  {
   "cell_type": "code",
   "execution_count": null,
   "metadata": {
    "ExecuteTime": {
     "end_time": "2018-08-28T10:20:39.913577Z",
     "start_time": "2018-08-28T10:20:39.791456Z"
    },
    "hidden": true
   },
   "outputs": [],
   "source": [
    "tbl_movies = pd.read_csv('../data/tmdb_5000_movies.csv')\n",
    "tbl_movies.head()"
   ]
  },
  {
   "cell_type": "markdown",
   "metadata": {
    "heading_collapsed": true
   },
   "source": [
    "## A. Audience "
   ]
  },
  {
   "cell_type": "markdown",
   "metadata": {
    "hidden": true
   },
   "source": [
    "In this excercise, we want to talk to a \"number-savy general audiendce\". We will provide a survey about the distribution of movie categories. "
   ]
  },
  {
   "cell_type": "code",
   "execution_count": null,
   "metadata": {
    "ExecuteTime": {
     "end_time": "2018-08-28T10:20:39.947322Z",
     "start_time": "2018-08-28T10:20:39.916062Z"
    },
    "hidden": true
   },
   "outputs": [],
   "source": [
    "def get_genre(genres):\n",
    "    '''Assign one genre to a movie.\n",
    "    \n",
    "    If more than one genres are assigned, pick up one arbitrarily.\n",
    "    This is NOT the best way to analyze this data but it is simple enough\n",
    "    for the demostration purposes\n",
    "    '''\n",
    "    genres = sorted(json.loads(genres), key=lambda d: d['id'])\n",
    "    if len(genres) > 0:\n",
    "        return genres[0]['name']\n",
    "    else:\n",
    "        return 'N/A'\n",
    "tbl_movies['genre'] = tbl_movies['genres'].apply(get_genre)"
   ]
  },
  {
   "cell_type": "code",
   "execution_count": null,
   "metadata": {
    "ExecuteTime": {
     "end_time": "2018-08-28T10:20:39.955132Z",
     "start_time": "2018-08-28T10:20:39.949162Z"
    },
    "hidden": true
   },
   "outputs": [],
   "source": [
    "genre_counts = pd.value_counts(tbl_movies['genre']).sort_index()\n",
    "genre_counts"
   ]
  },
  {
   "cell_type": "markdown",
   "metadata": {
    "heading_collapsed": true
   },
   "source": [
    "## B. Build the graph"
   ]
  },
  {
   "cell_type": "code",
   "execution_count": null,
   "metadata": {
    "ExecuteTime": {
     "end_time": "2018-08-28T10:20:40.219739Z",
     "start_time": "2018-08-28T10:20:39.956855Z"
    },
    "hidden": true
   },
   "outputs": [],
   "source": [
    "fig, ax = plt.subplots()\n",
    "ax.pie(genre_counts, labels=genre_counts.index);\n",
    "ax.set_title(\"Please don't\")"
   ]
  },
  {
   "cell_type": "code",
   "execution_count": null,
   "metadata": {
    "ExecuteTime": {
     "end_time": "2018-08-28T10:20:40.329962Z",
     "start_time": "2018-08-28T10:20:40.221597Z"
    },
    "hidden": true
   },
   "outputs": [],
   "source": [
    "fig, ax = plt.subplots()\n",
    "ax.set_aspect(1)\n",
    "ax.pie(genre_counts, labels=genre_counts.index);\n",
    "ax.set_title(\"Still don't\")"
   ]
  },
  {
   "cell_type": "code",
   "execution_count": null,
   "metadata": {
    "ExecuteTime": {
     "end_time": "2018-08-28T10:20:40.761153Z",
     "start_time": "2018-08-28T10:20:40.331790Z"
    },
    "hidden": true
   },
   "outputs": [],
   "source": [
    "# Make a bar chart using the same data\n",
    "fig, ax = plt.subplots(figsize=(12, 4), dpi=240)\n",
    "sns.barplot(x=genre_counts.index, y=genre_counts)"
   ]
  },
  {
   "cell_type": "markdown",
   "metadata": {
    "heading_collapsed": true
   },
   "source": [
    "## C. Conclusion"
   ]
  },
  {
   "cell_type": "markdown",
   "metadata": {
    "hidden": true
   },
   "source": [
    "This is a survey task. By its nature, it doesn't ask for any conclusion"
   ]
  },
  {
   "cell_type": "markdown",
   "metadata": {
    "heading_collapsed": true
   },
   "source": [
    "## D. Delete (data-ink ratio & readability)\n",
    "\n",
    "Delete unneeded elements, improve the readabiilty"
   ]
  },
  {
   "cell_type": "code",
   "execution_count": null,
   "metadata": {
    "ExecuteTime": {
     "end_time": "2018-08-28T10:20:41.161446Z",
     "start_time": "2018-08-28T10:20:40.762946Z"
    },
    "hidden": true
   },
   "outputs": [],
   "source": [
    "genre_counts = genre_counts.sort_values(ascending=False)\n",
    "fig, ax = plt.subplots(figsize=(12, 4), dpi=240)\n",
    "sns.barplot(x=genre_counts.index, y=genre_counts)"
   ]
  },
  {
   "cell_type": "code",
   "execution_count": null,
   "metadata": {
    "ExecuteTime": {
     "end_time": "2018-08-28T10:20:41.681462Z",
     "start_time": "2018-08-28T10:20:41.162819Z"
    },
    "hidden": true
   },
   "outputs": [],
   "source": [
    "# \"vanila matplotlib\" version (sort of)\n",
    "fig, ax = plt.subplots(figsize=(12, 4), dpi=240)\n",
    "y = list(range(len(genre_counts)))\n",
    "bars = ax.bar(\n",
    "     y,\n",
    "     genre_counts,\n",
    ")\n",
    "i=0\n",
    "for b in bars:\n",
    "    try:\n",
    "        b.set_color(f'C{i}')\n",
    "    except :\n",
    "        i = 0\n",
    "    else:\n",
    "        i += 1\n",
    "ax.set_xticks(range(len(genre_counts)))\n",
    "ax.set_xticklabels(genre_counts.index, rotation=30)\n",
    "ax.set_ylabel('# of movies')\n",
    "ax.set_title(\"For in much color is much vexation, and he who increases noise, increases pain.\")\n",
    "None"
   ]
  },
  {
   "cell_type": "code",
   "execution_count": null,
   "metadata": {
    "ExecuteTime": {
     "end_time": "2018-08-28T10:20:42.084926Z",
     "start_time": "2018-08-28T10:20:41.684718Z"
    },
    "hidden": true
   },
   "outputs": [],
   "source": [
    "fig, ax = plt.subplots(figsize=(12,4), dpi=240)\n",
    "y = list(range(len(genre_counts)))\n",
    "bars = ax.bar(\n",
    "     y,\n",
    "     genre_counts,\n",
    ")\n",
    "ax.set_xticks(range(len(genre_counts)))\n",
    "ax.set_xticklabels(genre_counts.index)\n",
    "# Rotated labels are hard to read. A better option is to alternate label heights\n",
    "for i, tk in enumerate(ax.get_xticklabels()):\n",
    "    pos = tk.get_position()\n",
    "    pos = [pos[0], pos[1] - (0.05 * (i % 2))]\n",
    "    tk.set_position(pos)\n",
    "ax.set_ylabel('# of movies')\n",
    "None\n",
    "\n"
   ]
  },
  {
   "cell_type": "code",
   "execution_count": null,
   "metadata": {
    "ExecuteTime": {
     "end_time": "2018-08-28T10:20:42.089923Z",
     "start_time": "2018-08-28T10:20:42.087170Z"
    },
    "hidden": true
   },
   "outputs": [],
   "source": [
    "#! Your turn -- use ax.barh to create a horizontal bar chart. Use only one color\n"
   ]
  },
  {
   "cell_type": "markdown",
   "metadata": {
    "hidden": true
   },
   "source": [
    "Look at what's important. Let's combine the small genres to a single category."
   ]
  },
  {
   "cell_type": "code",
   "execution_count": null,
   "metadata": {
    "ExecuteTime": {
     "end_time": "2018-08-28T10:20:42.160576Z",
     "start_time": "2018-08-28T10:20:42.092155Z"
    },
    "hidden": true
   },
   "outputs": [],
   "source": [
    "tmp = pd.DataFrame(genre_counts).rename(columns={'genre': 'n'})\n",
    "tmp['is_other'] = tmp.n < (tmp.n.sum() * 0.05)\n",
    "tbl_genres = tmp.loc[~tmp.is_other].copy()[['n']]\n",
    "tbl_genres.loc['Other'] = dict(n=tmp.loc[tmp.is_other]['n'].sum())\n",
    "tbl_genres['n'] = tbl_genres['n'].astype(int)\n",
    "tbl_genres"
   ]
  },
  {
   "cell_type": "code",
   "execution_count": null,
   "metadata": {
    "ExecuteTime": {
     "end_time": "2018-08-28T10:20:42.318251Z",
     "start_time": "2018-08-28T10:20:42.163779Z"
    },
    "hidden": true
   },
   "outputs": [],
   "source": [
    "y = list(range(len(tbl_genres)))\n",
    "fig, ax = plt.subplots()\n",
    "ax.barh(\n",
    "    y,\n",
    "    tbl_genres.n,\n",
    ")\n",
    "ax.set_yticks(y)\n",
    "ax.set_yticklabels(tbl_genres.index)\n",
    "ax.set_ylim(reversed(ax.get_ylim()))\n",
    "None"
   ]
  },
  {
   "cell_type": "code",
   "execution_count": null,
   "metadata": {
    "ExecuteTime": {
     "end_time": "2018-08-28T10:20:42.325930Z",
     "start_time": "2018-08-28T10:20:42.320531Z"
    },
    "hidden": true
   },
   "outputs": [],
   "source": [
    "tbl_genres['percent'] = tbl_genres['n'] / tbl_genres['n'].sum() * 100"
   ]
  },
  {
   "cell_type": "code",
   "execution_count": null,
   "metadata": {
    "ExecuteTime": {
     "end_time": "2018-08-28T10:20:42.519486Z",
     "start_time": "2018-08-28T10:20:42.328377Z"
    },
    "hidden": true
   },
   "outputs": [],
   "source": [
    "y = list(range(len(tbl_genres)))\n",
    "fig, ax = plt.subplots(figsize=(8, 4), dpi=120)\n",
    "ax.barh(\n",
    "    y,\n",
    "    tbl_genres.n,\n",
    ")\n",
    "ax.set_yticks(y)\n",
    "ax.set_yticklabels(tbl_genres.index)\n",
    "ax.set_ylim(reversed(ax.get_ylim()))\n",
    "for (y, (genre, row)) in enumerate(tbl_genres.iterrows()): #! <-\n",
    "    ax.text(\n",
    "        x=row['n'] - 2,\n",
    "        y=y,\n",
    "        s='{:,.0f}'.format(row['n']),\n",
    "        color='white',\n",
    "        ha='right',\n",
    "        va='center'\n",
    "    )\n",
    "None"
   ]
  },
  {
   "cell_type": "code",
   "execution_count": null,
   "metadata": {
    "ExecuteTime": {
     "end_time": "2018-08-28T10:20:42.678797Z",
     "start_time": "2018-08-28T10:20:42.521459Z"
    },
    "hidden": true
   },
   "outputs": [],
   "source": [
    "\n",
    "y = list(range(len(tbl_genres)))\n",
    "fig, ax = plt.subplots(figsize=(8, 4), dpi=120)\n",
    "ax.barh(\n",
    "    y,\n",
    "    tbl_genres.n,\n",
    ")\n",
    "tks = ax.set_yticks(y)\n",
    "ax.set_yticklabels(tbl_genres.index, ha='left', x=-0.1)\n",
    "ax.set_ylim(reversed(ax.get_ylim()))\n",
    "for (y, (genre, row)) in enumerate(tbl_genres.iterrows()):\n",
    "    ax.text(\n",
    "        x=row['n'] - 2,\n",
    "        y=y,\n",
    "        s='{:,.0f}'.format(row['n']),\n",
    "        color='white',\n",
    "        ha='right',\n",
    "        va='center'\n",
    "    )\n",
    "    ax.text( #! <----------------------------\n",
    "        x=ax.get_xlim()[1] + 100,\n",
    "        y=y,\n",
    "        s='{:.1f}'.format(row['percent']),\n",
    "        ha='right', va='center'\n",
    "    )\n",
    "ax.text( #! <----------------------------\n",
    "    x=ax.get_xlim()[1] + 100,\n",
    "    y=ax.get_ylim()[0],\n",
    "    s='_________\\n=100.0%',\n",
    "    ha='right', va='bottom'\n",
    ")\n",
    "sns.despine(left=True, bottom=True) #! <----------------------------\n",
    "ax.set_xticks([]) #! <----------------------------\n",
    "None"
   ]
  },
  {
   "cell_type": "code",
   "execution_count": null,
   "metadata": {
    "ExecuteTime": {
     "end_time": "2018-08-28T10:20:42.812916Z",
     "start_time": "2018-08-28T10:20:42.681142Z"
    },
    "hidden": true
   },
   "outputs": [],
   "source": [
    "# better allignment\n",
    "y = list(range(len(tbl_genres)))\n",
    "fig, ax = plt.subplots(figsize=(8, 4), dpi=120)\n",
    "ax.barh(\n",
    "    y,\n",
    "    tbl_genres.n,\n",
    ")\n",
    "ax.set_yticks(y)\n",
    "ax.set_yticklabels(tbl_genres.index, ha='left', x=-0.1)\n",
    "ax.set_ylim(reversed(ax.get_ylim()))\n",
    "for (y, (genre, row)) in enumerate(tbl_genres.iterrows()):\n",
    "    ax.text(\n",
    "        x=row['n'] - 2,\n",
    "        y=y,\n",
    "        s='{:,.0f}'.format(row['n']),\n",
    "        color='white',\n",
    "        ha='right',\n",
    "        va='center'\n",
    "    )\n",
    "    ax.text(\n",
    "        x=ax.get_xlim()[1] + 100,\n",
    "        y=y,\n",
    "        s='{:.1f}'.format(row['percent']),\n",
    "        ha='right', va='center'\n",
    "    )\n",
    "lbl = ax.text(\n",
    "    x=ax.get_xlim()[1] + 100,\n",
    "    y=ax.get_ylim()[0],\n",
    "    s='_________\\n=100.0',\n",
    "    ha='right', va='bottom'\n",
    ")\n",
    "ax.text( #! <------------------------------------------\n",
    "    x=ax.get_xlim()[1] + 100,\n",
    "    y=ax.get_ylim()[0],\n",
    "    s='%',\n",
    "    ha='left', va='bottom',\n",
    "    transform=ax.transData\n",
    ")\n",
    "sns.despine(left=True, bottom=True)\n",
    "ax.set_xticks([])\n",
    "ax.tick_params(which='both', width=0)  #! <------------------------------------------\n",
    "None"
   ]
  },
  {
   "cell_type": "code",
   "execution_count": null,
   "metadata": {
    "hidden": true
   },
   "outputs": [],
   "source": []
  }
 ],
 "metadata": {
  "kernelspec": {
   "display_name": "Python 3",
   "language": "python",
   "name": "python3"
  },
  "language_info": {
   "codemirror_mode": {
    "name": "ipython",
    "version": 3
   },
   "file_extension": ".py",
   "mimetype": "text/x-python",
   "name": "python",
   "nbconvert_exporter": "python",
   "pygments_lexer": "ipython3",
   "version": "3.6.5"
  }
 },
 "nbformat": 4,
 "nbformat_minor": 2
}
