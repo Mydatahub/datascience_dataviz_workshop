{
 "cells": [
  {
   "cell_type": "markdown",
   "metadata": {},
   "source": [
    "# Pie charts as an alternative to bar charts"
   ]
  },
  {
   "cell_type": "markdown",
   "metadata": {
    "heading_collapsed": true
   },
   "source": [
    "## Setup"
   ]
  },
  {
   "cell_type": "code",
   "execution_count": null,
   "metadata": {
    "ExecuteTime": {
     "end_time": "2018-08-28T18:16:14.982234Z",
     "start_time": "2018-08-28T18:16:14.391485Z"
    },
    "hidden": true
   },
   "outputs": [],
   "source": [
    "import pandas as pd\n",
    "import numpy as np\n",
    "import matplotlib.pylab as plt\n",
    "import seaborn as sns\n",
    "%matplotlib inline"
   ]
  },
  {
   "cell_type": "code",
   "execution_count": null,
   "metadata": {
    "ExecuteTime": {
     "end_time": "2018-08-28T18:16:14.987801Z",
     "start_time": "2018-08-28T18:16:14.983930Z"
    },
    "hidden": true
   },
   "outputs": [],
   "source": [
    "from IPython.display import *\n",
    "from importlib import reload\n",
    "import item_distribution_utils as utils\n",
    "# so that we reload modified `utils` every time we \"Run All\" the cells\n",
    "utils = reload(utils)"
   ]
  },
  {
   "cell_type": "markdown",
   "metadata": {
    "heading_collapsed": true
   },
   "source": [
    "## A. Audience\n",
    "In this excercise, our audience is a everyone who knows what a content management system is. We want to show off the prevalence of WordPress"
   ]
  },
  {
   "cell_type": "code",
   "execution_count": null,
   "metadata": {
    "ExecuteTime": {
     "end_time": "2018-08-28T18:16:15.843623Z",
     "start_time": "2018-08-28T18:16:14.990518Z"
    },
    "hidden": true
   },
   "outputs": [],
   "source": [
    "tbl_cms = utils.get_w3_cms_distribution()\n",
    "tbl_cms.head()"
   ]
  },
  {
   "cell_type": "markdown",
   "metadata": {
    "heading_collapsed": true
   },
   "source": [
    "## B. Build"
   ]
  },
  {
   "cell_type": "code",
   "execution_count": null,
   "metadata": {
    "ExecuteTime": {
     "end_time": "2018-08-28T18:16:15.848744Z",
     "start_time": "2018-08-28T18:16:15.845540Z"
    },
    "hidden": true
   },
   "outputs": [],
   "source": [
    "tbl_cms = tbl_cms.fillna(0)"
   ]
  },
  {
   "cell_type": "code",
   "execution_count": null,
   "metadata": {
    "ExecuteTime": {
     "end_time": "2018-08-28T18:16:16.371584Z",
     "start_time": "2018-08-28T18:16:15.850516Z"
    },
    "hidden": true
   },
   "outputs": [],
   "source": [
    "fig, ax = plt.subplots()\n",
    "ax.pie(\n",
    "    x=tbl_cms.of_total,\n",
    "    labels=tbl_cms.index\n",
    ")\n",
    "None"
   ]
  },
  {
   "cell_type": "code",
   "execution_count": null,
   "metadata": {
    "ExecuteTime": {
     "end_time": "2018-08-28T18:16:17.769958Z",
     "start_time": "2018-08-28T18:16:16.373966Z"
    },
    "hidden": true
   },
   "outputs": [],
   "source": [
    "fig, ax = plt.subplots()\n",
    "ax.set_aspect(1.0)  #!<----------------------------------\n",
    "ax.pie(\n",
    "    x=tbl_cms.of_total,\n",
    "    labels=tbl_cms.index\n",
    ")\n",
    "ax.legend()\n",
    "ax.set_title(\"Legend won't help\")\n",
    "None"
   ]
  },
  {
   "cell_type": "markdown",
   "metadata": {
    "hidden": true
   },
   "source": [
    "The usual solution in this case would be to use a bar chart"
   ]
  },
  {
   "cell_type": "code",
   "execution_count": null,
   "metadata": {
    "ExecuteTime": {
     "end_time": "2018-08-28T18:16:17.915228Z",
     "start_time": "2018-08-28T18:16:17.772221Z"
    },
    "hidden": true
   },
   "outputs": [],
   "source": [
    "tbl_shortened = tbl_cms.sort_values('of_total', ascending=False).head(15)\n",
    "fig, ax = plt.subplots(figsize=(8, 4))\n",
    "y = list(range(len(tbl_shortened)))\n",
    "ax.barh(\n",
    "    y,\n",
    "    tbl_shortened.of_total,\n",
    ")\n",
    "ax.set_yticks(y)\n",
    "labels = tbl_shortened.index\n",
    "ax.set_yticklabels(labels, ha='right')\n",
    "ax.set_title('WordPress powers 30% of the web')\n",
    "None"
   ]
  },
  {
   "cell_type": "markdown",
   "metadata": {
    "heading_collapsed": true
   },
   "source": [
    "## C. Conclusion\n",
    "What does the graph mean? \"What\" vs. \"So what\""
   ]
  },
  {
   "cell_type": "markdown",
   "metadata": {
    "hidden": true
   },
   "source": [
    "Let's see what we can do with pie charts."
   ]
  },
  {
   "cell_type": "code",
   "execution_count": null,
   "metadata": {
    "ExecuteTime": {
     "end_time": "2018-08-28T18:16:18.104414Z",
     "start_time": "2018-08-28T18:16:17.917431Z"
    },
    "hidden": true
   },
   "outputs": [],
   "source": [
    "labels = [f'{row.name}\\n{row.of_total:.1f}%' for _, row in tbl_shortened.iterrows()]\n",
    "tbl_shortened['label'] = labels\n",
    "fig, ax = plt.subplots(figsize=(5, 5), dpi=120)\n",
    "ax.pie(\n",
    "    x=tbl_shortened['of_total'],\n",
    "    labels=tbl_shortened['label']\n",
    ")\n",
    "ax.set_aspect(1.0)\n",
    "None"
   ]
  },
  {
   "cell_type": "markdown",
   "metadata": {
    "hidden": true
   },
   "source": [
    "There are still too many segments... Or are there?"
   ]
  },
  {
   "cell_type": "code",
   "execution_count": null,
   "metadata": {
    "ExecuteTime": {
     "end_time": "2018-08-28T18:16:18.109018Z",
     "start_time": "2018-08-28T18:16:18.106108Z"
    },
    "hidden": true
   },
   "outputs": [],
   "source": [
    "tbl_cms.sort_values('of_total', ascending=False, inplace=True)"
   ]
  },
  {
   "cell_type": "code",
   "execution_count": null,
   "metadata": {
    "ExecuteTime": {
     "end_time": "2018-08-28T18:16:18.117832Z",
     "start_time": "2018-08-28T18:16:18.110793Z"
    },
    "hidden": true
   },
   "outputs": [],
   "source": [
    "wordpress_blue = '#2f72a5'\n",
    "grayish = sns.desaturate(wordpress_blue, 0.33)\n",
    "palette = sns.light_palette(grayish, input=\"rgb\", n_colors=len(tbl_cms), reverse=True)"
   ]
  },
  {
   "cell_type": "code",
   "execution_count": null,
   "metadata": {
    "ExecuteTime": {
     "end_time": "2018-08-28T18:16:18.145043Z",
     "start_time": "2018-08-28T18:16:18.119717Z"
    },
    "hidden": true
   },
   "outputs": [],
   "source": [
    "tbl_cms['color'] = ['lightgray', wordpress_blue] + palette[2:]\n",
    "tbl_cms['label'] = [\n",
    "    {'None': 'No CMS', 'WordPress': 'WordPress'}.get(i, '')\n",
    "        for i in tbl_cms.index\n",
    "]\n",
    "tbl_cms['order'] = [row.of_total if row.name != 'None' else -row.of_total for _, row in tbl_cms.iterrows()]\n",
    "tbl_cms = tbl_cms.sort_values('order', ascending=False)\n",
    "tbl_cms.head()"
   ]
  },
  {
   "cell_type": "code",
   "execution_count": null,
   "metadata": {
    "ExecuteTime": {
     "end_time": "2018-08-28T18:16:18.308553Z",
     "start_time": "2018-08-28T18:16:18.147314Z"
    },
    "hidden": true
   },
   "outputs": [],
   "source": [
    "fig, ax = plt.subplots(figsize=(5, 5), dpi=120)\n",
    "ax.set_aspect(1.0)\n",
    "patches, texts = ax.pie(\n",
    "    x=tbl_cms['of_total'],\n",
    "    labels=tbl_cms['label'],\n",
    "    colors=tbl_cms['color']\n",
    ")\n",
    "for p in patches:\n",
    "    p.set_linewidth(0.5)\n",
    "    p.set_edgecolor('white')\n",
    "None"
   ]
  },
  {
   "cell_type": "code",
   "execution_count": null,
   "metadata": {
    "ExecuteTime": {
     "end_time": "2018-08-28T18:16:18.478372Z",
     "start_time": "2018-08-28T18:16:18.310483Z"
    },
    "hidden": true
   },
   "outputs": [],
   "source": [
    "def my_pie(startangle=0, label=True, labeldistance=0.5, counterclock=False):\n",
    "    fig, ax = plt.subplots(figsize=(5, 5), dpi=120)\n",
    "    ax.set_aspect(1.0)\n",
    "    if label:\n",
    "        labels = tbl_cms['label']\n",
    "    else:\n",
    "        labels = None\n",
    "    patches, texts = ax.pie(\n",
    "        x=tbl_cms['of_total'],\n",
    "        labels=labels,\n",
    "        colors=tbl_cms['color'],\n",
    "        startangle=startangle,\n",
    "        labeldistance=labeldistance,\n",
    "        textprops=dict(color=\"w\", weight='bold'),\n",
    "        counterclock=counterclock\n",
    "    )\n",
    "    for p in patches:\n",
    "        p.set_linewidth(0.5)\n",
    "        p.set_edgecolor('white')\n",
    "    return ax\n",
    "\n",
    "my_pie()"
   ]
  },
  {
   "cell_type": "code",
   "execution_count": null,
   "metadata": {
    "ExecuteTime": {
     "end_time": "2018-08-28T18:16:18.689116Z",
     "start_time": "2018-08-28T18:16:18.480077Z"
    },
    "hidden": true
   },
   "outputs": [],
   "source": [
    "import ipywidgets as ipw\n",
    "ipw.interact(my_pie, startangle=(-180, 180), labeldistance=(0, 1.0))"
   ]
  },
  {
   "cell_type": "code",
   "execution_count": null,
   "metadata": {
    "ExecuteTime": {
     "end_time": "2018-08-28T18:16:18.888911Z",
     "start_time": "2018-08-28T18:16:18.691054Z"
    },
    "hidden": true
   },
   "outputs": [],
   "source": [
    "ax = my_pie(startangle=90, labeldistance=0.2, counterclock=True)\n",
    "ax.set_title('WordPress powers 30% of the Web')"
   ]
  },
  {
   "cell_type": "markdown",
   "metadata": {
    "heading_collapsed": true
   },
   "source": [
    "## D. Delete (data-ink ratio & readability)\n",
    "\n",
    "Delete unneeded elements, improve the readabiilty"
   ]
  },
  {
   "cell_type": "code",
   "execution_count": null,
   "metadata": {
    "ExecuteTime": {
     "end_time": "2018-08-28T18:16:18.893154Z",
     "start_time": "2018-08-28T18:16:18.890727Z"
    },
    "hidden": true
   },
   "outputs": [],
   "source": [
    "pass"
   ]
  },
  {
   "cell_type": "code",
   "execution_count": null,
   "metadata": {
    "hidden": true
   },
   "outputs": [],
   "source": []
  }
 ],
 "metadata": {
  "kernelspec": {
   "display_name": "Python 3",
   "language": "python",
   "name": "python3"
  },
  "language_info": {
   "codemirror_mode": {
    "name": "ipython",
    "version": 3
   },
   "file_extension": ".py",
   "mimetype": "text/x-python",
   "name": "python",
   "nbconvert_exporter": "python",
   "pygments_lexer": "ipython3",
   "version": "3.6.5"
  }
 },
 "nbformat": 4,
 "nbformat_minor": 2
}
