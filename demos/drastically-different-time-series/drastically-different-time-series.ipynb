{
 "cells": [
  {
   "cell_type": "markdown",
   "metadata": {},
   "source": [
    "# Plotting drastically different time series"
   ]
  },
  {
   "cell_type": "markdown",
   "metadata": {},
   "source": [
    "Plotting multiple time series on a single graph is always a challenge. The challenge becomes especially difficult when the time series are very different one from another.\n",
    "In this exercise, we will plot the per-capita Gross Domestic Product (GDPPC) of OECD countries. OECD (Organisation for Economic Co-operation and Development) is an intergovernmental economic organization with 35 member countries with very different economy types and sizes."
   ]
  },
  {
   "cell_type": "code",
   "execution_count": null,
   "metadata": {
    "ExecuteTime": {
     "end_time": "2018-08-28T18:36:02.673486Z",
     "start_time": "2018-08-28T18:36:01.612883Z"
    }
   },
   "outputs": [],
   "source": [
    "import pandas as pd\n",
    "import os\n",
    "from matplotlib import pylab as plt\n",
    "import seaborn as sns\n",
    "import numpy as np\n",
    "import ipywidgets\n",
    "import matplotlib as mpl\n",
    "from statsmodels.nonparametric.kde import KDEUnivariate\n",
    "%matplotlib inline"
   ]
  },
  {
   "cell_type": "code",
   "execution_count": null,
   "metadata": {
    "ExecuteTime": {
     "end_time": "2018-08-28T18:36:02.677268Z",
     "start_time": "2018-08-28T18:36:02.675075Z"
    }
   },
   "outputs": [],
   "source": [
    "dir_data = '../data/'"
   ]
  },
  {
   "cell_type": "code",
   "execution_count": null,
   "metadata": {
    "ExecuteTime": {
     "end_time": "2018-08-28T18:36:18.419768Z",
     "start_time": "2018-08-28T18:36:18.281926Z"
    },
    "scrolled": true
   },
   "outputs": [],
   "source": [
    "df_gdppp = pd.read_excel('../data/GDP_per_capita.xlsx', sheet_name='Data')\n",
    "df_gdppp.head()"
   ]
  },
  {
   "cell_type": "code",
   "execution_count": null,
   "metadata": {
    "ExecuteTime": {
     "end_time": "2018-08-28T18:36:18.437975Z",
     "start_time": "2018-08-28T18:36:18.421837Z"
    }
   },
   "outputs": [],
   "source": [
    "df_groups = pd.read_csv('../data/country_groups.csv')\n",
    "oecd_countries = df_groups.loc[df_groups.GroupCode == 'OED'].CountryCode.values"
   ]
  },
  {
   "cell_type": "code",
   "execution_count": null,
   "metadata": {
    "ExecuteTime": {
     "end_time": "2018-08-28T18:36:18.465216Z",
     "start_time": "2018-08-28T18:36:18.439818Z"
    }
   },
   "outputs": [],
   "source": [
    "df_oecd_wide = df_gdppp.loc[df_gdppp['Country Code'].isin(oecd_countries)]\n",
    "df_oecd_wide.head()"
   ]
  },
  {
   "cell_type": "code",
   "execution_count": null,
   "metadata": {
    "ExecuteTime": {
     "end_time": "2018-08-28T18:36:18.486034Z",
     "start_time": "2018-08-28T18:36:18.466676Z"
    }
   },
   "outputs": [],
   "source": [
    "df_oecd = df_oecd_wide.melt(id_vars=['Country Name', 'Country Code'], var_name='year', value_name='GDPPC')\n",
    "df_oecd.year = df_oecd.year.astype(int)\n",
    "df_oecd = df_oecd.loc[df_oecd.year >= 1990]\n",
    "df_oecd.sample(10)"
   ]
  },
  {
   "cell_type": "code",
   "execution_count": null,
   "metadata": {},
   "outputs": [],
   "source": []
  },
  {
   "cell_type": "code",
   "execution_count": null,
   "metadata": {
    "ExecuteTime": {
     "end_time": "2018-08-28T18:36:19.193802Z",
     "start_time": "2018-08-28T18:36:18.488683Z"
    }
   },
   "outputs": [],
   "source": [
    "fig, ax = plt.subplots(figsize=(10, 4))\n",
    "for (name, code), df in df_oecd.groupby(['Country Name', 'Country Code']):\n",
    "    ax.plot(df.year, df.GDPPC, '-', label=name)\n",
    "ax.legend()\n",
    "ax.set_ylabel('GDP per capita')\n",
    "ax.set_title('Not really!')"
   ]
  },
  {
   "cell_type": "code",
   "execution_count": null,
   "metadata": {
    "ExecuteTime": {
     "end_time": "2018-08-28T18:36:19.401119Z",
     "start_time": "2018-08-28T18:36:19.195853Z"
    }
   },
   "outputs": [],
   "source": [
    "def plot_gdppc():\n",
    "    fig, ax = plt.subplots(figsize=(10, 4))\n",
    "    for (name, code), df in df_oecd.groupby(['Country Name', 'Country Code']):\n",
    "        ax.plot(df.year, df.GDPPC, '-', color='gray', label=name)\n",
    "    ax.set_ylabel('GDP per capita')\n",
    "    return ax\n",
    "plot_gdppc()"
   ]
  },
  {
   "cell_type": "code",
   "execution_count": null,
   "metadata": {
    "ExecuteTime": {
     "end_time": "2018-08-28T18:36:19.622558Z",
     "start_time": "2018-08-28T18:36:19.402909Z"
    }
   },
   "outputs": [],
   "source": [
    "#! Look at what's important\n",
    "def plot_gdppc(country_name):\n",
    "    fig, ax = plt.subplots(figsize=(10, 4))\n",
    "    for (name, code), df in df_oecd.groupby(['Country Name', 'Country Code']):\n",
    "        if country_name == name:\n",
    "            clr = 'C1'\n",
    "            lw = 2.5\n",
    "            zorder = 9 # show this line above the others\n",
    "            lbl = name\n",
    "        else:\n",
    "            clr = 'gray'\n",
    "            lw = 0.75\n",
    "            zorder = 0\n",
    "            lbl = ''\n",
    "        ax.plot(df.year, df.GDPPC, '-', color=clr, lw=lw, label=lbl)\n",
    "    ax.set_ylabel('GDP per capita')\n",
    "    ax.legend()\n",
    "    return ax\n",
    "plot_gdppc('Israel')"
   ]
  },
  {
   "cell_type": "code",
   "execution_count": null,
   "metadata": {
    "ExecuteTime": {
     "end_time": "2018-08-28T18:36:19.734103Z",
     "start_time": "2018-08-28T18:36:19.624119Z"
    }
   },
   "outputs": [],
   "source": [
    "# Normalize the values\n",
    "def normalize_to_2000(df):\n",
    "    ref = df.loc[df.year == 2000].iloc[0]['GDPPC']\n",
    "    df.GDPPC /= ref  \n",
    "    df.GDPPC = (df.GDPPC * 100) - 100\n",
    "    return df\n",
    "df_oecd_normalized = df_oecd.groupby('Country Name').apply(normalize_to_2000)\n",
    "df_oecd_normalized = df_oecd_normalized.loc[df_oecd_normalized.year >= 2000]"
   ]
  },
  {
   "cell_type": "code",
   "execution_count": null,
   "metadata": {
    "ExecuteTime": {
     "end_time": "2018-08-28T18:36:19.747940Z",
     "start_time": "2018-08-28T18:36:19.736539Z"
    }
   },
   "outputs": [],
   "source": [
    "df_oecd_normalized.loc[df_oecd_normalized['Country Code'] == 'ISR']"
   ]
  },
  {
   "cell_type": "code",
   "execution_count": null,
   "metadata": {
    "ExecuteTime": {
     "end_time": "2018-08-28T18:36:19.966240Z",
     "start_time": "2018-08-28T18:36:19.749721Z"
    }
   },
   "outputs": [],
   "source": [
    "#! Plot the normalized data to reduce the clutter\n",
    "def plot_normalized(country_name):\n",
    "    fig, ax = plt.subplots(figsize=(10, 4))\n",
    "    for (name, code), df in df_oecd_normalized.groupby(['Country Name', 'Country Code']):\n",
    "        if country_name == name:\n",
    "            clr = 'C1'\n",
    "            lw = 2.5\n",
    "            zorder = 9 # show this line above the others\n",
    "            lbl = name\n",
    "        else:\n",
    "            clr = 'gray'\n",
    "            lw = 0.5\n",
    "            zorder = 0\n",
    "            lbl = ''\n",
    "        ax.plot(df.year, df.GDPPC, '-', color=clr, lw=lw, label=lbl)\n",
    "    ax.set_ylabel('GDP per capita\\nrelative to 2000')\n",
    "    ax.legend()\n",
    "    return ax\n",
    "plot_normalized('Israel')"
   ]
  },
  {
   "cell_type": "code",
   "execution_count": null,
   "metadata": {
    "ExecuteTime": {
     "end_time": "2018-08-28T18:36:20.000957Z",
     "start_time": "2018-08-28T18:36:19.968003Z"
    }
   },
   "outputs": [],
   "source": [
    "last_GDPPC = df_oecd_normalized.groupby('Country Name').apply(\n",
    "    lambda df: df.loc[df.year == df.year.max()]['GDPPC'].iloc[0]\n",
    ").sort_values()\n",
    "last_GDPPC.head()"
   ]
  },
  {
   "cell_type": "code",
   "execution_count": null,
   "metadata": {
    "ExecuteTime": {
     "end_time": "2018-08-28T18:36:20.232463Z",
     "start_time": "2018-08-28T18:36:20.003804Z"
    }
   },
   "outputs": [],
   "source": [
    "#! Let's make this prettier (*)\n",
    "def plot_normalized(country_name):\n",
    "    fig, ax = plt.subplots(figsize=(10, 4))\n",
    "    for (name, code), df in df_oecd_normalized.groupby(['Country Name', 'Country Code']):\n",
    "        if country_name == name:\n",
    "            clr = 'C1'\n",
    "            lw = 2.5\n",
    "            zorder = 9 # show this line above the others\n",
    "            lbl = name\n",
    "        else:\n",
    "            clr = 'gray'\n",
    "            lw = 0.5\n",
    "            zorder = 0\n",
    "            lbl = ''\n",
    "        ax.plot(df.year, df.GDPPC, '-', color=clr, lw=lw, label=lbl)\n",
    "        place_legend = False\n",
    "        if name == country_name:\n",
    "            last_value = df.GDPPC.iloc[-1]\n",
    "            fontsize='x-large'\n",
    "            place_legend = True\n",
    "        elif name in (last_GDPPC.index[0], last_GDPPC.index[-1]):\n",
    "            last_value = df.GDPPC.iloc[-1]\n",
    "            fontsize='medium'\n",
    "            place_legend = True\n",
    "        if place_legend:\n",
    "            txt_x = df.year.max()\n",
    "            ax.text(\n",
    "                txt_x, last_value, f'{name}: {last_value:+.1f}%',\n",
    "                fontsize=fontsize, color=clr, va='center'\n",
    "            )    \n",
    "    ax.set_ylabel('GDP per capita\\n% difference, relative to 2000')\n",
    "    return ax\n",
    "plot_normalized('Israel')"
   ]
  },
  {
   "cell_type": "code",
   "execution_count": null,
   "metadata": {
    "ExecuteTime": {
     "end_time": "2018-08-28T18:36:20.470195Z",
     "start_time": "2018-08-28T18:36:20.233957Z"
    },
    "code_folding": [
     1
    ]
   },
   "outputs": [],
   "source": [
    "#! Let's make this EVEN MORE pretty (*)\n",
    "def plot_normalized(country_name):\n",
    "\n",
    "    fig, ax = plt.subplots(figsize=(10, 10))\n",
    "    for (name, code), df in df_oecd_normalized.groupby(['Country Name', 'Country Code']):\n",
    "        if country_name == name:\n",
    "            clr = 'C1'\n",
    "            lw = 3.5\n",
    "            zorder = 9 # show this line above the others\n",
    "            lbl = name\n",
    "        else:\n",
    "            clr = 'black'\n",
    "            lw = 0.5\n",
    "            zorder = 0\n",
    "            lbl = ''\n",
    "        ax.plot(df.year, df.GDPPC, '-', color=clr, zorder=zorder, lw=lw, label=lbl)\n",
    "        place_legend = False\n",
    "        if name == country_name:\n",
    "            last_value = df.GDPPC.iloc[-1]\n",
    "            fontsize='x-large'\n",
    "            place_legend = True\n",
    "        elif name in (last_GDPPC.index[0], last_GDPPC.index[-1]):\n",
    "            last_value = df.GDPPC.iloc[-1]\n",
    "            fontsize='medium'\n",
    "            place_legend = True\n",
    "        if place_legend:\n",
    "            txt_x = df.year.max() + 0.5\n",
    "            ax.text(\n",
    "                txt_x, last_value, f'{name}: {last_value:+.1f}%',\n",
    "                fontsize=fontsize, color=clr, va='center'\n",
    "            )    \n",
    "    ax.set_ylabel('GDP per capita', \n",
    "                  rotation=0, y=1.05, \n",
    "                  va='top', ha='right', ma='left', color='gray')\n",
    "    ax.set_xticks(\n",
    "        np.linspace(df_oecd_normalized.year.min(), df_oecd_normalized.year.max(), 5).astype(int)\n",
    "    )\n",
    "\n",
    "    tks = [-20, 0, 100, 200, 300]\n",
    "    ax.set_yticks(tks)\n",
    "    ax.set_yticklabels([f'{t:+.0f}%' for t in tks])\n",
    "\n",
    "    ax.spines['bottom'].set_position('zero')\n",
    "    for which in {'bottom', 'left'}:\n",
    "        ax.spines[which].set_color('gray')\n",
    "    ax.tick_params(colors='gray')\n",
    "    sns.despine(ax=ax)\n",
    "    return ax\n",
    "plot_normalized('Mexico')"
   ]
  },
  {
   "cell_type": "code",
   "execution_count": null,
   "metadata": {
    "ExecuteTime": {
     "end_time": "2018-08-28T18:36:20.715027Z",
     "start_time": "2018-08-28T18:36:20.471767Z"
    }
   },
   "outputs": [],
   "source": [
    "#! Add some interactivity\n",
    "ipywidgets.interactive(\n",
    "    plot_normalized,\n",
    "    country_name=df_oecd_normalized['Country Name'].unique()\n",
    ")"
   ]
  },
  {
   "cell_type": "markdown",
   "metadata": {},
   "source": [
    "## Another approach"
   ]
  },
  {
   "cell_type": "markdown",
   "metadata": {},
   "source": [
    "When we think of a time series plot, we usually think of an \"evolution\" line -- a line that plots the time on the X-axis, and the value on the Y-axis. This is not always the best approach. We can use stacked Kernel Density Estimation (KDE), to provide an information-rich and readable graphs. \n",
    "\n",
    "Sometimes, these graphs are called \"[joyplots](https://seaborn.pydata.org/examples/kde_joyplot.html)\""
   ]
  },
  {
   "cell_type": "code",
   "execution_count": null,
   "metadata": {
    "ExecuteTime": {
     "end_time": "2018-08-28T18:36:20.722405Z",
     "start_time": "2018-08-28T18:36:20.716669Z"
    }
   },
   "outputs": [],
   "source": [
    "def plot_filled_kde(data, clr='C0', baseline=0, x_from=None, x_to=None, log_transform=False, label=None, country=None, *args, **kwargs):\n",
    "    data = data.dropna()\n",
    "    ax = kwargs.pop('ax', None)\n",
    "    if ax is None:\n",
    "        ax = plt.gca()\n",
    "    if x_from is None:\n",
    "        x_from = data.min()\n",
    "    if x_to is None:\n",
    "        x_to = data.max()\n",
    "    if log_transform:\n",
    "        data = np.log10(data)\n",
    "        x_from = np.log10(x_from)\n",
    "        x_to = np.log10(x_to)\n",
    "    kde = KDEUnivariate(\n",
    "        data\n",
    "    )\n",
    "    kde.fit(bw=0.05)\n",
    "    x = np.linspace(x_from, x_to, 100) # from 0 to 4. hours\n",
    "    y = kde.evaluate(x)\n",
    "    y += baseline\n",
    "    ax.plot(x, y, '-', lw=0.8, color=clr, *args, **kwargs)\n",
    "    ax.fill_between(x, y1=baseline, y2=y, color=clr, alpha=0.1)\n",
    "    if label is not None:\n",
    "        lbl_x = x[-1]\n",
    "        lbl_y = y[-1]\n",
    "        ax.text(x[-1], y[-1], label, color=clr, va='center')\n",
    "    if country is not None:\n",
    "        country_x = [data[country]]\n",
    "        country_y = kde.evaluate(country_x) + baseline\n",
    "        ax.plot(country_x, country_y, 'o', color=clr)\n",
    "    return ax"
   ]
  },
  {
   "cell_type": "code",
   "execution_count": null,
   "metadata": {
    "ExecuteTime": {
     "end_time": "2018-08-28T18:36:20.881437Z",
     "start_time": "2018-08-28T18:36:20.724084Z"
    }
   },
   "outputs": [],
   "source": [
    "#! \n",
    "fig, ax = plt.subplots(figsize=(10, 5))\n",
    "years = np.arange(1995, 2016, 4)\n",
    "(x_from, x_to) = (df_oecd.GDPPC.min(), df_oecd.GDPPC.max())\n",
    "for i, y in enumerate(years):\n",
    "    df = df_oecd.loc[df_oecd.year == y].set_index('Country Name')\n",
    "    plot_filled_kde(df.GDPPC, baseline=i, x_from=x_from, x_to=x_to, log_transform=True, label=y)\n",
    "sns.despine(ax=ax, left=True)\n",
    "ax.set_yticks([])\n",
    "xticks = (np.linspace(np.log10(x_from), np.log10(x_to), 3)).astype(int)\n",
    "ax.set_xticks(xticks); ax.set_xticklabels([f'${10**t:,d}' for t in xticks])\n",
    "ax.set_xlabel('GDP per capita (USD)')"
   ]
  },
  {
   "cell_type": "code",
   "execution_count": null,
   "metadata": {
    "ExecuteTime": {
     "end_time": "2018-08-28T18:36:21.043018Z",
     "start_time": "2018-08-28T18:36:20.883315Z"
    }
   },
   "outputs": [],
   "source": [
    "#!\n",
    "def follow_a_country(country):\n",
    "    fig, ax = plt.subplots(figsize=(10, 5))\n",
    "    years = np.arange(1995, 2016, 4)\n",
    "    (x_from, x_to) = (df_oecd.GDPPC.min(), df_oecd.GDPPC.max())\n",
    "    for i, y in enumerate(years):\n",
    "        df = df_oecd.loc[df_oecd.year == y].set_index('Country Name')\n",
    "        plot_filled_kde(df.GDPPC, baseline=i, x_from=x_from, x_to=x_to, log_transform=True, label=y, \n",
    "                        country=country, ax=ax)\n",
    "    sns.despine(ax=ax, left=True)\n",
    "    ax.set_yticks([])\n",
    "    xticks = (np.linspace(np.log10(x_from), np.log10(x_to), 3)).astype(int)\n",
    "    ax.set_xticks(xticks); ax.set_xticklabels([f'${10**t:,d}' for t in xticks])\n",
    "    ax.set_xlabel('GDP per capita (USD)')\n",
    "    ax.set_title(\n",
    "        f\"{country}'s GDP per  capita, compared to OECD\",\n",
    "        ma='left', x=0\n",
    "                )\n",
    "follow_a_country('Estonia')"
   ]
  },
  {
   "cell_type": "code",
   "execution_count": null,
   "metadata": {
    "ExecuteTime": {
     "end_time": "2018-08-28T18:36:21.226687Z",
     "start_time": "2018-08-28T18:36:21.044659Z"
    }
   },
   "outputs": [],
   "source": [
    "ipywidgets.interact(follow_a_country, country=df_oecd['Country Name'].unique())"
   ]
  },
  {
   "cell_type": "code",
   "execution_count": null,
   "metadata": {},
   "outputs": [],
   "source": []
  }
 ],
 "metadata": {
  "kernelspec": {
   "display_name": "Python 3",
   "language": "python",
   "name": "python3"
  },
  "language_info": {
   "codemirror_mode": {
    "name": "ipython",
    "version": 3
   },
   "file_extension": ".py",
   "mimetype": "text/x-python",
   "name": "python",
   "nbconvert_exporter": "python",
   "pygments_lexer": "ipython3",
   "version": "3.6.5"
  }
 },
 "nbformat": 4,
 "nbformat_minor": 2
}
