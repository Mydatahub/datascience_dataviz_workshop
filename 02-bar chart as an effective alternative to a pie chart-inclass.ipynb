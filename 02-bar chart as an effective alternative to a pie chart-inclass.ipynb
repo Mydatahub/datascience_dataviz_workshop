{
 "cells": [
  {
   "cell_type": "markdown",
   "metadata": {},
   "source": [
    "# Bar chart as an effective alternative to a pie chart"
   ]
  },
  {
   "cell_type": "markdown",
   "metadata": {},
   "source": [
    "In this exercise, we will visualize the distribution of different categories in a data set. We'll start with a pie chart, understand its problems, and will evolve into a neat summary graph."
   ]
  },
  {
   "cell_type": "code",
   "execution_count": null,
   "metadata": {
    "ExecuteTime": {
     "end_time": "2018-04-30T04:15:03.597252Z",
     "start_time": "2018-04-30T04:15:02.974945Z"
    }
   },
   "outputs": [],
   "source": [
    "import pandas as pd\n",
    "import numpy as np\n",
    "import matplotlib.pylab as plt\n",
    "import seaborn as sns\n",
    "%matplotlib inline"
   ]
  },
  {
   "cell_type": "code",
   "execution_count": null,
   "metadata": {
    "ExecuteTime": {
     "end_time": "2018-04-30T04:15:03.692675Z",
     "start_time": "2018-04-30T04:15:03.599498Z"
    }
   },
   "outputs": [],
   "source": [
    "tbl_movies = pd.read_csv('data/tmdb_5000_movies.csv')\n",
    "tbl_movies.head()"
   ]
  },
  {
   "cell_type": "code",
   "execution_count": null,
   "metadata": {
    "ExecuteTime": {
     "end_time": "2018-04-30T04:15:03.697423Z",
     "start_time": "2018-04-30T04:15:03.694604Z"
    }
   },
   "outputs": [],
   "source": [
    "import json"
   ]
  },
  {
   "cell_type": "code",
   "execution_count": null,
   "metadata": {
    "ExecuteTime": {
     "end_time": "2018-04-30T04:15:03.728355Z",
     "start_time": "2018-04-30T04:15:03.699263Z"
    }
   },
   "outputs": [],
   "source": [
    "def get_genre(genres):\n",
    "    genres = sorted(json.loads(genres), key=lambda d: d['id'])\n",
    "    if len(genres) > 0:\n",
    "        return genres[0]['name']\n",
    "    else:\n",
    "        return 'N/A'\n",
    "tbl_movies['genre'] = tbl_movies['genres'].apply(get_genre)"
   ]
  },
  {
   "cell_type": "code",
   "execution_count": null,
   "metadata": {
    "ExecuteTime": {
     "end_time": "2018-04-30T04:16:01.420746Z",
     "start_time": "2018-04-30T04:16:01.412689Z"
    }
   },
   "outputs": [],
   "source": [
    "genre_counts = pd.value_counts(tbl_movies['genre']).sort_index()\n",
    "genre_counts"
   ]
  },
  {
   "cell_type": "code",
   "execution_count": null,
   "metadata": {
    "ExecuteTime": {
     "end_time": "2018-04-30T04:16:02.136322Z",
     "start_time": "2018-04-30T04:16:02.029085Z"
    }
   },
   "outputs": [],
   "source": [
    "fig, ax = plt.subplots()\n",
    "ax.pie(genre_counts, labels=genre_counts.index);\n",
    "ax.set_title(\"Please don't\")"
   ]
  },
  {
   "cell_type": "code",
   "execution_count": null,
   "metadata": {
    "ExecuteTime": {
     "end_time": "2018-04-30T04:16:03.333731Z",
     "start_time": "2018-04-30T04:16:03.226001Z"
    }
   },
   "outputs": [],
   "source": [
    "fig, ax = plt.subplots()\n",
    "ax.set_aspect(1)\n",
    "ax.pie(genre_counts, labels=genre_counts.index);\n",
    "ax.set_title(\"Still don't\")"
   ]
  },
  {
   "cell_type": "code",
   "execution_count": null,
   "metadata": {},
   "outputs": [],
   "source": [
    "# Make a bar chart using the same data\n",
    "fig, ax = plt.subplots(figsize=(12, 4), dpi=240)\n",
    "sns.barplot(x=genre_counts.index, y=genre_counts)"
   ]
  },
  {
   "cell_type": "code",
   "execution_count": null,
   "metadata": {},
   "outputs": [],
   "source": [
    "#! Sorting improves readability\n"
   ]
  },
  {
   "cell_type": "code",
   "execution_count": null,
   "metadata": {},
   "outputs": [],
   "source": [
    "# \"vanila matplotlib\" version (sort of)\n",
    "fig, ax = plt.subplots(figsize=(12, 4), dpi=240)\n",
    "y = list(range(len(genre_counts)))\n",
    "bars = ax.bar(\n",
    "     y,\n",
    "     genre_counts,\n",
    ")\n",
    "i=0\n",
    "for b in bars:\n",
    "    try:\n",
    "        b.set_color(f'C{i}')\n",
    "    except :\n",
    "        i = 0\n",
    "    else:\n",
    "        i += 1\n",
    "ax.set_xticks(range(len(genre_counts)))\n",
    "ax.set_xticklabels(genre_counts.index, rotation=90)\n",
    "ax.set_ylabel('# of movies')\n",
    "ax.set_title(\"For in much color is much vexation, and he who increases noise, increases pain.\")\n",
    "None"
   ]
  },
  {
   "cell_type": "code",
   "execution_count": null,
   "metadata": {},
   "outputs": [],
   "source": [
    "fig, ax = plt.subplots(figsize=(12,4), dpi=240)\n",
    "y = list(range(len(genre_counts)))\n",
    "bars = ax.bar(\n",
    "     y,\n",
    "     genre_counts,\n",
    ")\n",
    "ax.set_xticks(range(len(genre_counts)))\n",
    "ax.set_xticklabels(genre_counts.index)\n",
    "# Rotated labels are hard to read. A better option is to alternate label heights\n",
    "for i, tk in enumerate(ax.get_xticklabels()):\n",
    "    pos = tk.get_position()\n",
    "    pos = [pos[0], pos[1] - (0.05 * (i % 2))]\n",
    "    tk.set_position(pos)\n",
    "ax.set_ylabel('# of movies')\n",
    "None"
   ]
  },
  {
   "cell_type": "code",
   "execution_count": null,
   "metadata": {
    "ExecuteTime": {
     "end_time": "2018-04-30T04:16:15.113757Z",
     "start_time": "2018-04-30T04:16:14.955416Z"
    }
   },
   "outputs": [],
   "source": [
    "#! Your turn -- use ax.barh to create a horizontal bar chart. Use only one color\n"
   ]
  },
  {
   "cell_type": "markdown",
   "metadata": {},
   "source": [
    "Look at what's important. Let's combine the small genres to a single category."
   ]
  },
  {
   "cell_type": "code",
   "execution_count": null,
   "metadata": {
    "ExecuteTime": {
     "end_time": "2018-01-08T12:47:15.350460Z",
     "start_time": "2018-01-08T12:47:15.285183Z"
    }
   },
   "outputs": [],
   "source": [
    "tmp = pd.DataFrame(genre_counts).rename(columns={'genre': 'n'})\n",
    "tmp['is_other'] = tmp.n < (tmp.n.sum() * 0.05)\n",
    "tbl_genres = tmp.loc[~tmp.is_other].copy()[['n']]\n",
    "tbl_genres.loc['Other'] = dict(n=tmp.loc[tmp.is_other]['n'].sum())\n",
    "tbl_genres['n'] = tbl_genres['n'].astype(int)\n",
    "tbl_genres"
   ]
  },
  {
   "cell_type": "code",
   "execution_count": null,
   "metadata": {
    "ExecuteTime": {
     "end_time": "2018-01-08T12:47:22.159289Z",
     "start_time": "2018-01-08T12:47:22.024081Z"
    }
   },
   "outputs": [],
   "source": [
    "y = list(range(len(tbl_genres)))\n",
    "fig, ax = plt.subplots()\n",
    "ax.barh(\n",
    "    y,\n",
    "    tbl_genres.n,\n",
    ")\n",
    "ax.set_yticks(y)\n",
    "ax.set_yticklabels(tbl_genres.index)\n",
    "ax.set_ylim(reversed(ax.get_ylim()))\n",
    "None"
   ]
  },
  {
   "cell_type": "code",
   "execution_count": null,
   "metadata": {
    "ExecuteTime": {
     "end_time": "2018-01-08T12:47:25.987663Z",
     "start_time": "2018-01-08T12:47:25.982938Z"
    }
   },
   "outputs": [],
   "source": [
    "tbl_genres['percent'] = tbl_genres['n'] / tbl_genres['n'].sum() * 100"
   ]
  },
  {
   "cell_type": "code",
   "execution_count": null,
   "metadata": {
    "ExecuteTime": {
     "end_time": "2018-01-08T12:57:55.880156Z",
     "start_time": "2018-01-08T12:57:55.684775Z"
    }
   },
   "outputs": [],
   "source": [
    "#! text labels\n"
   ]
  },
  {
   "cell_type": "code",
   "execution_count": null,
   "metadata": {
    "ExecuteTime": {
     "end_time": "2018-01-08T12:58:13.425188Z",
     "start_time": "2018-01-08T12:58:13.223688Z"
    }
   },
   "outputs": [],
   "source": []
  },
  {
   "cell_type": "code",
   "execution_count": null,
   "metadata": {
    "ExecuteTime": {
     "end_time": "2018-01-08T13:00:26.413653Z",
     "start_time": "2018-01-08T13:00:26.242863Z"
    }
   },
   "outputs": [],
   "source": [
    "#! summary table \n"
   ]
  },
  {
   "cell_type": "code",
   "execution_count": null,
   "metadata": {
    "ExecuteTime": {
     "end_time": "2018-01-08T13:00:33.834385Z",
     "start_time": "2018-01-08T13:00:33.584002Z"
    }
   },
   "outputs": [],
   "source": [
    "#! better allignment\n"
   ]
  },
  {
   "cell_type": "code",
   "execution_count": null,
   "metadata": {},
   "outputs": [],
   "source": []
  }
 ],
 "metadata": {
  "kernelspec": {
   "display_name": "Python 3",
   "language": "python",
   "name": "python3"
  },
  "language_info": {
   "codemirror_mode": {
    "name": "ipython",
    "version": 3
   },
   "file_extension": ".py",
   "mimetype": "text/x-python",
   "name": "python",
   "nbconvert_exporter": "python",
   "pygments_lexer": "ipython3",
   "version": "3.6.5"
  }
 },
 "nbformat": 4,
 "nbformat_minor": 2
}
